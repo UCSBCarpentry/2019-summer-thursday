{
 "cells": [
  {
   "cell_type": "code",
   "execution_count": null,
   "metadata": {},
   "outputs": [],
   "source": []
  },
  {
   "cell_type": "code",
   "execution_count": 3,
   "metadata": {},
   "outputs": [
    {
     "name": "stdout",
     "output_type": "stream",
     "text": [
      "5.705882352941177\n"
     ]
    },
    {
     "name": "stdin",
     "output_type": "stream",
     "text": [
      "Quarter, e.g., 'Fall 2018': Fall 2018\n",
      "Week number: 2\n",
      "Number of doctors working: 12\n"
     ]
    },
    {
     "name": "stdout",
     "output_type": "stream",
     "text": [
      "8.083333333333334\n"
     ]
    },
    {
     "ename": "ValueError",
     "evalue": "invalid literal for int() with base 10: '/Users/ilessing/Library/Jupyter/runtime/kernel-84f706d9-d537-434a-a4ca-8d5af03aaa0e.json'",
     "output_type": "error",
     "traceback": [
      "\u001b[0;31m---------------------------------------------------------------------------\u001b[0m",
      "\u001b[0;31mValueError\u001b[0m                                Traceback (most recent call last)",
      "\u001b[0;32m<ipython-input-3-e53ae3450b16>\u001b[0m in \u001b[0;36m<module>\u001b[0;34m\u001b[0m\n\u001b[1;32m     22\u001b[0m \u001b[0;32mimport\u001b[0m \u001b[0mpandas\u001b[0m \u001b[0;32mas\u001b[0m \u001b[0mpd\u001b[0m\u001b[0;34m\u001b[0m\u001b[0;34m\u001b[0m\u001b[0m\n\u001b[1;32m     23\u001b[0m \u001b[0mquarter\u001b[0m \u001b[0;34m=\u001b[0m \u001b[0msys\u001b[0m\u001b[0;34m.\u001b[0m\u001b[0margv\u001b[0m\u001b[0;34m[\u001b[0m\u001b[0;36m1\u001b[0m\u001b[0;34m]\u001b[0m\u001b[0;34m\u001b[0m\u001b[0;34m\u001b[0m\u001b[0m\n\u001b[0;32m---> 24\u001b[0;31m \u001b[0mweek\u001b[0m \u001b[0;34m=\u001b[0m \u001b[0mint\u001b[0m\u001b[0;34m(\u001b[0m\u001b[0msys\u001b[0m\u001b[0;34m.\u001b[0m\u001b[0margv\u001b[0m\u001b[0;34m[\u001b[0m\u001b[0;36m2\u001b[0m\u001b[0;34m]\u001b[0m\u001b[0;34m)\u001b[0m\u001b[0;34m\u001b[0m\u001b[0;34m\u001b[0m\u001b[0m\n\u001b[0m\u001b[1;32m     25\u001b[0m \u001b[0mnumDoctors\u001b[0m \u001b[0;34m=\u001b[0m \u001b[0mint\u001b[0m\u001b[0;34m(\u001b[0m\u001b[0msys\u001b[0m\u001b[0;34m.\u001b[0m\u001b[0margv\u001b[0m\u001b[0;34m[\u001b[0m\u001b[0;36m3\u001b[0m\u001b[0;34m]\u001b[0m\u001b[0;34m)\u001b[0m\u001b[0;34m\u001b[0m\u001b[0;34m\u001b[0m\u001b[0m\n\u001b[1;32m     26\u001b[0m \u001b[0mdf\u001b[0m \u001b[0;34m=\u001b[0m \u001b[0mpd\u001b[0m\u001b[0;34m.\u001b[0m\u001b[0mread_csv\u001b[0m\u001b[0;34m(\u001b[0m\u001b[0;34m\"drewsdata/intakedata20181-20193.csv\"\u001b[0m\u001b[0;34m)\u001b[0m\u001b[0;34m\u001b[0m\u001b[0;34m\u001b[0m\u001b[0m\n",
      "\u001b[0;31mValueError\u001b[0m: invalid literal for int() with base 10: '/Users/ilessing/Library/Jupyter/runtime/kernel-84f706d9-d537-434a-a4ca-8d5af03aaa0e.json'"
     ]
    }
   ],
   "source": [
    "# combining masks into fewer lines of code\n",
    "import pandas as pd\n",
    "df = pd.read_csv(\"drewsdata/intakedata20181-20193.csv\")\n",
    "numIntakes = int(df[(df[\"Quarter\"] == \"Fall 2018\") & (df[\"Week\"] == 2)][\"Intakes\"])\n",
    "print(numIntakes/17)\n",
    "\n",
    "# (Notice the parentheses on either side of the & operator--- they are necessary.)\n",
    "\n",
    "# Then, to turn this into a script that prompts for input:\n",
    "\n",
    "import pandas as pd\n",
    "quarter = input(\"Quarter, e.g., 'Fall 2018':\")\n",
    "week = int(input(\"Week number:\"))\n",
    "numDoctors = int(input(\"Number of doctors working:\"))\n",
    "df = pd.read_csv(\"drewsdata/intakedata20181-20193.csv\")\n",
    "numIntakes = int(df[(df[\"Quarter\"] == quarter) & (df[\"Week\"] == week)][\"Intakes\"])\n",
    "print(numIntakes/numDoctors)\n",
    "\n",
    "# Or, to turn this into a script that reads command line arguments:\n",
    "\n",
    "import sys\n",
    "import pandas as pd\n",
    "quarter = sys.argv[1]\n",
    "week = int(sys.argv[2])\n",
    "numDoctors = int(sys.argv[3])\n",
    "df = pd.read_csv(\"drewsdata/intakedata20181-20193.csv\")\n",
    "numIntakes = int(df[(df[\"Quarter\"] == quarter) & (df[\"Week\"] == week)][\"Intakes\"])\n",
    "print(numIntakes/numDoctors)\n",
    "\n",
    "# To run the above, create a text file drew.py in Jupyter Lab and put the above code in it.  Then use Jupyter's magic %run command:\n",
    "\n",
    "# %run drew 'Fall 2018' 2 17\n",
    "\n",
    "# To run from the command line:\n",
    "\n",
    "# python drew.py 'Fall 2018' 2 17\n",
    "\n",
    "# It's also possible to make the script be directly executable, but that may be beyond the scope."
   ]
  },
  {
   "cell_type": "code",
   "execution_count": null,
   "metadata": {},
   "outputs": [],
   "source": []
  }
 ],
 "metadata": {
  "kernelspec": {
   "display_name": "Python 3",
   "language": "python",
   "name": "python3"
  },
  "language_info": {
   "codemirror_mode": {
    "name": "ipython",
    "version": 3
   },
   "file_extension": ".py",
   "mimetype": "text/x-python",
   "name": "python",
   "nbconvert_exporter": "python",
   "pygments_lexer": "ipython3",
   "version": "3.7.3"
  }
 },
 "nbformat": 4,
 "nbformat_minor": 2
}
