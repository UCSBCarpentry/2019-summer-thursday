{
 "cells": [
  {
   "cell_type": "code",
   "execution_count": 1,
   "metadata": {},
   "outputs": [],
   "source": [
    "#Lesson 12 - For Loops\n",
    "#Author: Sharon Solis\n",
    "#Date: Thurs, Aug 8, 2019\n",
    "#location: Collaboratory\n"
   ]
  },
  {
   "cell_type": "code",
   "execution_count": 4,
   "metadata": {},
   "outputs": [
    {
     "name": "stdout",
     "output_type": "stream",
     "text": [
      "2\n",
      "3\n",
      "5\n",
      "[2, 3, 5]\n"
     ]
    }
   ],
   "source": [
    "number = [ 2,3,5]\n",
    "print(number[0])\n",
    "print(number[1])\n",
    "print(number[2])\n",
    "\n",
    "print(number)"
   ]
  },
  {
   "cell_type": "code",
   "execution_count": 13,
   "metadata": {},
   "outputs": [
    {
     "name": "stdout",
     "output_type": "stream",
     "text": [
      "2\n",
      "3\n",
      "5\n"
     ]
    }
   ],
   "source": [
    "for j in [0,1,2]:\n",
    "    \n",
    "    print(number[j])"
   ]
  },
  {
   "cell_type": "code",
   "execution_count": 15,
   "metadata": {},
   "outputs": [
    {
     "name": "stdout",
     "output_type": "stream",
     "text": [
      "2\n",
      "3\n",
      "5\n"
     ]
    }
   ],
   "source": [
    "for j in [2, 3, 5]: #same as for j in number, since number = [2,3,5]\n",
    "    print(j)"
   ]
  },
  {
   "cell_type": "code",
   "execution_count": 17,
   "metadata": {},
   "outputs": [
    {
     "name": "stdout",
     "output_type": "stream",
     "text": [
      "2\n",
      "3\n",
      "5\n"
     ]
    }
   ],
   "source": [
    "for number in [2,3,5]:\n",
    "    print(number)"
   ]
  },
  {
   "cell_type": "code",
   "execution_count": 19,
   "metadata": {},
   "outputs": [],
   "source": [
    "firstname = \"Sharon\"\n",
    "lastname = \"Solis\"\n",
    "    "
   ]
  },
  {
   "cell_type": "code",
   "execution_count": 20,
   "metadata": {},
   "outputs": [
    {
     "name": "stdout",
     "output_type": "stream",
     "text": [
      "2\n",
      "3\n",
      "5\n"
     ]
    }
   ],
   "source": [
    "for cat in [2,3,5]: #variables can be anything, although it helps when it is a meaningful name\n",
    "    \n",
    "    print(cat)"
   ]
  },
  {
   "cell_type": "code",
   "execution_count": 21,
   "metadata": {},
   "outputs": [
    {
     "name": "stdout",
     "output_type": "stream",
     "text": [
      "2 4 8\n",
      "3 9 27\n",
      "5 25 125\n"
     ]
    }
   ],
   "source": [
    "primes = [ 2, 3, 5]\n",
    "for p in primes: #remember this is same as \"for p in [2,3,5]\"\n",
    "    squared = p ** 2 #what does this line do? it squares each item in primes\n",
    "    cubed = p ** 3 # cubes each item in primes\n",
    "    print(p, squared, cubed)\n",
    "    \n",
    "    #2, 4, 8\n",
    "    #3, 9, 27\n",
    "    #5, 25, 125"
   ]
  },
  {
   "cell_type": "code",
   "execution_count": 22,
   "metadata": {},
   "outputs": [
    {
     "name": "stdout",
     "output_type": "stream",
     "text": [
      "a range is not a list: range(0,3)\n",
      "0\n",
      "1\n",
      "2\n"
     ]
    }
   ],
   "source": [
    "#use range to iterate over a sequence of numbers\n",
    "#range(N) is the numbers 0....N-1\n",
    "#e.g. range(10) is number 0....10-1=9\n",
    "\n",
    "print('a range is not a list: range(0,3)')\n",
    "for number in range(0,3):\n",
    "    print(number)\n",
    "    \n",
    "    #i'm expecting this to print\n",
    "    #0\n",
    "    #1\n",
    "    #2"
   ]
  },
  {
   "cell_type": "code",
   "execution_count": 24,
   "metadata": {},
   "outputs": [
    {
     "name": "stdout",
     "output_type": "stream",
     "text": [
      "1\n",
      "2\n",
      "3\n",
      "4\n",
      "5\n",
      "6\n",
      "7\n",
      "8\n",
      "9\n",
      "10\n"
     ]
    }
   ],
   "source": [
    "# sum the first 10 integers (1 to 10)\n",
    "#total = 0\n",
    "for number in range(10): #range(10) means 0...9\n",
    "    total = 0\n",
    "    total = total + (number + 1)\n",
    "    print(total)\n",
    "    \n",
    "    #first time my loop runs, total = 0 + 1\n",
    "    #second time my loop runs, total = 1+2\n",
    "    #and so on\n",
    "    \n",
    "    #when we initialize total = 0 within for loop,\n",
    "    # this does not accumulate 1 + 2 +...+ 10\n",
    "    # first time loop runs, total = 0 + 1\n",
    "    #second time loop runs, total = 0 + 2"
   ]
  },
  {
   "cell_type": "code",
   "execution_count": 25,
   "metadata": {},
   "outputs": [
    {
     "name": "stdout",
     "output_type": "stream",
     "text": [
      "10\n"
     ]
    }
   ],
   "source": [
    "for number in range(10): #range(10) means 0...9\n",
    "    total = 0\n",
    "    total = total + (number + 1)\n",
    "print(total)\n",
    "#should be one output, which equals 10"
   ]
  },
  {
   "cell_type": "code",
   "execution_count": 28,
   "metadata": {},
   "outputs": [
    {
     "name": "stdout",
     "output_type": "stream",
     "text": [
      "1\n",
      "3\n",
      "6\n",
      "10\n",
      "15\n",
      "21\n",
      "28\n",
      "36\n",
      "45\n",
      "55\n",
      "66\n",
      "78\n",
      "91\n",
      "105\n",
      "120\n",
      "136\n",
      "153\n",
      "171\n",
      "190\n",
      "210\n",
      "231\n",
      "253\n",
      "276\n",
      "300\n",
      "325\n",
      "351\n",
      "378\n",
      "406\n",
      "435\n",
      "465\n",
      "496\n",
      "528\n",
      "561\n",
      "595\n",
      "630\n",
      "666\n",
      "703\n",
      "741\n",
      "780\n",
      "820\n",
      "861\n",
      "903\n",
      "946\n",
      "990\n",
      "1035\n",
      "1081\n",
      "1128\n",
      "1176\n",
      "1225\n",
      "1275\n",
      "1326\n",
      "1378\n",
      "1431\n",
      "1485\n",
      "1540\n",
      "1596\n",
      "1653\n",
      "1711\n",
      "1770\n",
      "1830\n",
      "1891\n",
      "1953\n",
      "2016\n",
      "2080\n",
      "2145\n",
      "2211\n",
      "2278\n",
      "2346\n",
      "2415\n",
      "2485\n",
      "2556\n",
      "2628\n",
      "2701\n",
      "2775\n",
      "2850\n",
      "2926\n",
      "3003\n",
      "3081\n",
      "3160\n",
      "3240\n",
      "3321\n",
      "3403\n",
      "3486\n",
      "3570\n",
      "3655\n",
      "3741\n",
      "3828\n",
      "3916\n",
      "4005\n",
      "4095\n",
      "4186\n",
      "4278\n",
      "4371\n",
      "4465\n",
      "4560\n",
      "4656\n",
      "4753\n",
      "4851\n",
      "4950\n",
      "5050\n"
     ]
    }
   ],
   "source": [
    "total = 0\n",
    "\n",
    "for number in range(100): #range(10) means 0...9\n",
    "    total = total + (number + 1)\n",
    "    print(total)\n",
    "#should be one output, which equals 55"
   ]
  },
  {
   "cell_type": "code",
   "execution_count": 32,
   "metadata": {},
   "outputs": [
    {
     "name": "stdout",
     "output_type": "stream",
     "text": [
      "number of times my loop ran: 1\n",
      "number of times my loop ran: 2\n",
      "number of times my loop ran: 3\n"
     ]
    }
   ],
   "source": [
    "#Challenge 1\n",
    "#let's see what total is each time our for loop runs\n",
    "#i think it'll run three times\n",
    "loop = 0\n",
    "for char in \"tin\": #what is happening here? t-i-n, three characters here, help(char) to remind yourself\n",
    "    loop = loop + 1\n",
    "    print('number of times my loop ran:', loop)\n",
    "    #first time, loop = 0 + 1\n",
    "    #in this case, loop tells me how many times my for loop runs"
   ]
  },
  {
   "cell_type": "code",
   "execution_count": 33,
   "metadata": {},
   "outputs": [
    {
     "name": "stdout",
     "output_type": "stream",
     "text": [
      "12\n"
     ]
    }
   ],
   "source": [
    "#challenge 2\n",
    "# Total length of the strings in the list: [\"red\", \"green\", \"blue\"] => 12\n",
    "total = 0\n",
    "for word in [\"red\", \"green\", \"blue\"]:\n",
    "    total = total + len(word)\n",
    "    \n",
    "    #first time, total = 0 + 3\n",
    "    #second time, total = 3 + 5\n",
    "print(total)"
   ]
  },
  {
   "cell_type": "code",
   "execution_count": 36,
   "metadata": {},
   "outputs": [
    {
     "name": "stdout",
     "output_type": "stream",
     "text": [
      "[3, 5, 4]\n"
     ]
    }
   ],
   "source": [
    "# List of word lengths: [\"red\", \"green\", \"blue\"] => [3, 5, 4]\n",
    "lengths = []\n",
    "for word in [\"red\", \"green\", \"blue\"]:\n",
    "    lengths.append(len(word))\n",
    "print(lengths)"
   ]
  },
  {
   "cell_type": "code",
   "execution_count": 35,
   "metadata": {},
   "outputs": [
    {
     "data": {
      "text/plain": [
       "['__add__',\n",
       " '__class__',\n",
       " '__contains__',\n",
       " '__delattr__',\n",
       " '__delitem__',\n",
       " '__dir__',\n",
       " '__doc__',\n",
       " '__eq__',\n",
       " '__format__',\n",
       " '__ge__',\n",
       " '__getattribute__',\n",
       " '__getitem__',\n",
       " '__gt__',\n",
       " '__hash__',\n",
       " '__iadd__',\n",
       " '__imul__',\n",
       " '__init__',\n",
       " '__init_subclass__',\n",
       " '__iter__',\n",
       " '__le__',\n",
       " '__len__',\n",
       " '__lt__',\n",
       " '__mul__',\n",
       " '__ne__',\n",
       " '__new__',\n",
       " '__reduce__',\n",
       " '__reduce_ex__',\n",
       " '__repr__',\n",
       " '__reversed__',\n",
       " '__rmul__',\n",
       " '__setattr__',\n",
       " '__setitem__',\n",
       " '__sizeof__',\n",
       " '__str__',\n",
       " '__subclasshook__',\n",
       " 'append',\n",
       " 'clear',\n",
       " 'copy',\n",
       " 'count',\n",
       " 'extend',\n",
       " 'index',\n",
       " 'insert',\n",
       " 'pop',\n",
       " 'remove',\n",
       " 'reverse',\n",
       " 'sort']"
      ]
     },
     "execution_count": 35,
     "metadata": {},
     "output_type": "execute_result"
    }
   ],
   "source": [
    "lengths = []\n",
    "dir(lengths)"
   ]
  },
  {
   "cell_type": "code",
   "execution_count": null,
   "metadata": {},
   "outputs": [],
   "source": []
  }
 ],
 "metadata": {
  "kernelspec": {
   "display_name": "Python 3",
   "language": "python",
   "name": "python3"
  },
  "language_info": {
   "codemirror_mode": {
    "name": "ipython",
    "version": 3
   },
   "file_extension": ".py",
   "mimetype": "text/x-python",
   "name": "python",
   "nbconvert_exporter": "python",
   "pygments_lexer": "ipython3",
   "version": "3.7.0"
  }
 },
 "nbformat": 4,
 "nbformat_minor": 2
}
