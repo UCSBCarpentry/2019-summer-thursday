{
 "cells": [
  {
   "cell_type": "markdown",
   "metadata": {},
   "source": [
    "# Why write functions?\n",
    "Have you ever written scripts and realized that you're repeating the same set of operations? Have you ever written scripts where there are a _distinct_ set of operations for the calculation of a certain parameter or value? This is where functions come in!"
   ]
  },
  {
   "cell_type": "markdown",
   "metadata": {},
   "source": [
    "# Functions: syntax\n",
    "1. Functions always begin with `def`\n",
    "2. Next, the name of the function will follow. This can be specified by the user and must follow the same rules as variable names. `def [name]`\n",
    "3. Then, a set of parentheses follows the name, which includes inputs. Parentheses can be empty. `def [name]()`\n",
    "4. Next, a colon follows the parentheses: `def [name]():`\n",
    "4. Finally, an indented block of code:"
   ]
  },
  {
   "cell_type": "code",
   "execution_count": 1,
   "metadata": {},
   "outputs": [],
   "source": [
    "def example_func():\n",
    "    code\n",
    "    code\n",
    "    code"
   ]
  },
  {
   "cell_type": "markdown",
   "metadata": {},
   "source": [
    "# _Running_ vs _defining_ a function\n",
    "Suppose we define a function called `print_greeting()`. This doesn't take any inputs, and simply prints the phrase \"Hello!\". The following two code blocks show the difference between _declaration_ and _running_ a function."
   ]
  },
  {
   "cell_type": "code",
   "execution_count": 3,
   "metadata": {},
   "outputs": [],
   "source": [
    "# In this code block, we are declaring the function print_greeting()\n",
    "def print_greeting():\n",
    "    print(\"Hello!\")"
   ]
  },
  {
   "cell_type": "code",
   "execution_count": 4,
   "metadata": {},
   "outputs": [
    {
     "name": "stdout",
     "output_type": "stream",
     "text": [
      "Hello!\n"
     ]
    }
   ],
   "source": [
    "# In this code block, we are running print_greeting()\n",
    "print_greeting()"
   ]
  },
  {
   "cell_type": "markdown",
   "metadata": {},
   "source": [
    "# Now, let's look at a more complex example\n",
    "Functions can be more useful than printing text to standard output. Let's first define a function called `print_date`, which takes a value for `year`, `month`, `day`."
   ]
  },
  {
   "cell_type": "code",
   "execution_count": 26,
   "metadata": {},
   "outputs": [],
   "source": [
    "# Let's first define this function\n",
    "def print_date(year, month, day):\n",
    "    joined = str(year) + '/' + str(month) + '/' + str(day)\n",
    "    print(joined)"
   ]
  },
  {
   "cell_type": "code",
   "execution_count": 27,
   "metadata": {},
   "outputs": [
    {
     "name": "stdout",
     "output_type": "stream",
     "text": [
      "1988/9/9\n",
      "1988/9/9\n",
      "1988/9/9\n"
     ]
    }
   ],
   "source": [
    "# Now, let's run this function three ways\n",
    "\n",
    "# way 1\n",
    "year = 1988\n",
    "month = 9\n",
    "day = 9\n",
    "print_date(year, month, day)\n",
    "\n",
    "# way 2\n",
    "y = 1988\n",
    "m = 9\n",
    "d = 9\n",
    "print_date(y, m, d)\n",
    "\n",
    "# way 3\n",
    "print_date(year = 1988, \n",
    "           month = 9, \n",
    "           day = 9)"
   ]
  },
  {
   "cell_type": "markdown",
   "metadata": {},
   "source": [
    "# `return`-ing values\n",
    "_All_ functions return values! Some functions _explicitly_ return values. Let's take a look at a function that prints the average, given a list of values. Then, we'll compare this with the values returned from `print_date`, defined above."
   ]
  },
  {
   "cell_type": "code",
   "execution_count": 28,
   "metadata": {},
   "outputs": [],
   "source": [
    "def average(values):\n",
    "    if len(values) == 0:\n",
    "        return None\n",
    "    return sum(values) / len(values)"
   ]
  },
  {
   "cell_type": "code",
   "execution_count": 29,
   "metadata": {},
   "outputs": [
    {
     "name": "stdout",
     "output_type": "stream",
     "text": [
      "average of actual values: 2.6666666666666665\n"
     ]
    }
   ],
   "source": [
    "# define a list containing the numbers, 1, 2, 3\n",
    "a = average([1, 3, 4])\n",
    "print('average of actual values:', a)"
   ]
  },
  {
   "cell_type": "markdown",
   "metadata": {},
   "source": [
    "Recall that `print_date` doesn't explicitly return anything."
   ]
  },
  {
   "cell_type": "code",
   "execution_count": 30,
   "metadata": {},
   "outputs": [
    {
     "name": "stdout",
     "output_type": "stream",
     "text": [
      "1871/3/19\n",
      "result of call is: None\n"
     ]
    }
   ],
   "source": [
    "result = print_date(1871, 3, 19)\n",
    "print('result of call is:', result)"
   ]
  },
  {
   "cell_type": "markdown",
   "metadata": {},
   "source": [
    "Now, what if we tweak `print_date` to return the date?"
   ]
  },
  {
   "cell_type": "code",
   "execution_count": 31,
   "metadata": {},
   "outputs": [
    {
     "name": "stdout",
     "output_type": "stream",
     "text": [
      "1871/3/19\n",
      "result of call is: None\n"
     ]
    }
   ],
   "source": [
    "result = print_date(1871, 3, 19)\n",
    "print('result of call is:', result)"
   ]
  },
  {
   "cell_type": "markdown",
   "metadata": {},
   "source": [
    "# Challenge 1: identifying syntax errors"
   ]
  },
  {
   "cell_type": "markdown",
   "metadata": {},
   "source": [
    "# Challenge 2: definition and use"
   ]
  },
  {
   "cell_type": "markdown",
   "metadata": {},
   "source": [
    "# Challenge 3: order of operations"
   ]
  },
  {
   "cell_type": "markdown",
   "metadata": {},
   "source": [
    "# Challenge 4 (skip): encapsulation"
   ]
  },
  {
   "cell_type": "code",
   "execution_count": 3,
   "metadata": {},
   "outputs": [
    {
     "data": {
      "text/plain": [
       "-3"
      ]
     },
     "execution_count": 3,
     "metadata": {},
     "output_type": "execute_result"
    }
   ],
   "source": [
    "def first_negative(values):\n",
    "    for v in values:\n",
    "        if v < 0:\n",
    "            return v\n",
    "        \n",
    "lst = [0, -3, 4, -8]\n",
    "first_negative(lst)"
   ]
  },
  {
   "cell_type": "markdown",
   "metadata": {},
   "source": [
    "# Challenge 5: calling by name"
   ]
  },
  {
   "cell_type": "code",
   "execution_count": 39,
   "metadata": {},
   "outputs": [],
   "source": [
    "year = 1983\n",
    "gdp_decade = 'gdpPercap_' + str(year // 10)\n",
    "avg = (japan.loc[gdp_decade + '2'] + japan.loc[gdp_decade + '7']) / 2"
   ]
  },
  {
   "cell_type": "markdown",
   "metadata": {},
   "source": [
    "# Challenge 6: encapsulate of if/print block"
   ]
  },
  {
   "cell_type": "code",
   "execution_count": 6,
   "metadata": {},
   "outputs": [
    {
     "name": "stdout",
     "output_type": "stream",
     "text": [
      "68.90269615154666\n",
      "medium\n",
      "67.51184381867927\n",
      "medium\n",
      "65.57909243973992\n",
      "medium\n",
      "53.96895271224736\n",
      "small\n",
      "72.5010324238201\n",
      "large\n",
      "77.09681341336787\n",
      "large\n",
      "61.827665540361274\n",
      "medium\n",
      "66.95895851005243\n",
      "medium\n",
      "82.47809896408724\n",
      "large\n",
      "53.43554559601317\n",
      "small\n"
     ]
    }
   ],
   "source": [
    "import random\n",
    "\n",
    "# original version\n",
    "for i in range(10):\n",
    "\n",
    "    # simulating the mass of a chicken egg\n",
    "    # the (random) mass will be 70 +/- 20 grams\n",
    "    mass=70+20.0*(2.0*random.random()-1.0)\n",
    "\n",
    "    print(mass)\n",
    "   \n",
    "    #egg sizing machinery prints a label\n",
    "    if(mass>=85):\n",
    "       print(\"jumbo\")\n",
    "    elif(mass>=70):\n",
    "       print(\"large\")\n",
    "    elif(mass<70 and mass>=55):\n",
    "       print(\"medium\")\n",
    "    else:\n",
    "       print(\"small\")"
   ]
  },
  {
   "cell_type": "code",
   "execution_count": 7,
   "metadata": {},
   "outputs": [
    {
     "name": "stdout",
     "output_type": "stream",
     "text": [
      "68.09318210381936 medium\n",
      "88.83523731139883 jumbo\n",
      "69.14902135365453 medium\n",
      "51.86578037417446 small\n",
      "65.83466044644648 medium\n",
      "82.42563629297915 large\n",
      "86.42624062636975 jumbo\n",
      "82.48244019598428 large\n",
      "87.32044150808761 jumbo\n",
      "88.09819472370212 jumbo\n"
     ]
    }
   ],
   "source": [
    "# revised version\n",
    "import random\n",
    "\n",
    "def print_egg_label(mass):\n",
    "    if(mass>=85):\n",
    "       return(\"jumbo\")\n",
    "    elif(mass>=70):\n",
    "       return(\"large\")\n",
    "    elif(mass<70 and mass>=55):\n",
    "       return(\"medium\")\n",
    "    else:\n",
    "       return(\"small\")\n",
    "\n",
    "for i in range(10):\n",
    "    # simulating the mass of a chicken egg\n",
    "    # the (random) mass will be 70 +/- 20 grams\n",
    "    mass=70+20.0*(2.0*random.random()-1.0)\n",
    "\n",
    "    print(mass,print_egg_label(mass))    \n"
   ]
  },
  {
   "cell_type": "markdown",
   "metadata": {},
   "source": [
    "# Challenge 7: Encapsulating Data Analysis"
   ]
  },
  {
   "cell_type": "code",
   "execution_count": 8,
   "metadata": {},
   "outputs": [],
   "source": [
    "import pandas as pd\n",
    "\n",
    "df = pd.read_csv('data/gapminder_gdp_asia.csv', index_col=0)\n",
    "japan = df.loc['Japan']"
   ]
  },
  {
   "cell_type": "code",
   "execution_count": 13,
   "metadata": {},
   "outputs": [
    {
     "name": "stdout",
     "output_type": "stream",
     "text": [
      "gdpPercap_198\n"
     ]
    }
   ],
   "source": [
    "year = 1983\n",
    "gdp_decade = 'gdpPercap_' + str(year // 10)\n",
    "print(gdp_decade)\n",
    "avg = (japan.loc[gdp_decade + \"2\"] + japan.loc[gdp_decade + \"7\"]) / 2"
   ]
  },
  {
   "cell_type": "code",
   "execution_count": null,
   "metadata": {},
   "outputs": [],
   "source": [
    "def avg_gdp_in_decade(country, continent, year):\n",
    "    df = pd.read_csv('data/gapminder_gdp_' + continent + '.csv', index_col=0)\n",
    "    c = df.loc[country]\n",
    "    gdp_decade = 'gdpPercap_' + str(year // 10)\n",
    "    avg = (c.loc[gdp_decade + '2'] + c.loc[gdp_decade + '7'])/2\n",
    "    return avg"
   ]
  },
  {
   "cell_type": "markdown",
   "metadata": {},
   "source": [
    "# Challenge 8: Simulating a dynamical system"
   ]
  },
  {
   "cell_type": "code",
   "execution_count": 15,
   "metadata": {},
   "outputs": [],
   "source": [
    "def logistic_map(x, r):\n",
    "    return r * x * (1 - x)"
   ]
  },
  {
   "cell_type": "code",
   "execution_count": 16,
   "metadata": {},
   "outputs": [],
   "source": [
    "initial_condition = 0.5\n",
    "t_final = 10\n",
    "r = 1.0\n",
    "trajectory = [initial_condition]\n",
    "for t in range(1, t_final):\n",
    "    trajectory.append(logistic_map(trajectory[t - 1], r))"
   ]
  },
  {
   "cell_type": "code",
   "execution_count": 17,
   "metadata": {},
   "outputs": [],
   "source": [
    "def iterate(initial_condition, t_final, r):\n",
    "    trajectory = [initial_condition]\n",
    "    for t in range(1, t_final):\n",
    "        trajectory.append( logistic_map(trajectory[t-1], r) )\n",
    "    return trajectory"
   ]
  },
  {
   "cell_type": "code",
   "execution_count": 18,
   "metadata": {},
   "outputs": [
    {
     "data": {
      "text/plain": [
       "[0.5,\n",
       " 0.25,\n",
       " 0.1875,\n",
       " 0.15234375,\n",
       " 0.1291351318359375,\n",
       " 0.11245924956165254,\n",
       " 0.09981216674968249,\n",
       " 0.08984969811841606,\n",
       " 0.08177672986644556,\n",
       " 0.07508929631879595]"
      ]
     },
     "execution_count": 18,
     "metadata": {},
     "output_type": "execute_result"
    }
   ],
   "source": [
    "iterate(0.5, 10, 1)"
   ]
  },
  {
   "cell_type": "code",
   "execution_count": 25,
   "metadata": {},
   "outputs": [
    {
     "data": {
      "text/plain": [
       "[<matplotlib.lines.Line2D at 0x121fb0ba8>]"
      ]
     },
     "execution_count": 25,
     "metadata": {},
     "output_type": "execute_result"
    },
    {
     "data": {
      "image/png": "[encoded data removed]",
      "text/plain": [
       "<Figure size 432x288 with 1 Axes>"
      ]
     },
     "metadata": {
      "needs_background": "light"
     },
     "output_type": "display_data"
    }
   ],
   "source": [
    "import matplotlib.pyplot as plt\n",
    "results = iterate(0.5,10,1)\n",
    "results\n",
    "plt.plot(results)"
   ]
  }
 ],
 "metadata": {
  "kernelspec": {
   "display_name": "Python 3",
   "language": "python",
   "name": "python3"
  },
  "language_info": {
   "codemirror_mode": {
    "name": "ipython",
    "version": 3
   },
   "file_extension": ".py",
   "mimetype": "text/x-python",
   "name": "python",
   "nbconvert_exporter": "python",
   "pygments_lexer": "ipython3",
   "version": "3.7.3"
  }
 },
 "nbformat": 4,
 "nbformat_minor": 2
}
