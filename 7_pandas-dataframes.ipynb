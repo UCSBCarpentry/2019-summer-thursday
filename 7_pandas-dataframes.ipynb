{
 "cells": [
  {
   "cell_type": "markdown",
   "metadata": {},
   "source": [
    "# 0. A preamble"
   ]
  },
  {
   "cell_type": "markdown",
   "metadata": {},
   "source": [
    "Last week, we introduced the python [DataFrame](https://pandas.pydata.org/pandas-docs/stable/reference/api/pandas.DataFrame.html). These are data structures that are,\n",
    "+ mutable\n",
    "+ two-dimensional\n",
    "+ are composed of [Series](https://pandas.pydata.org/pandas-docs/stable/reference/api/pandas.Series.html) or columns (one-dimensional)\n",
    "+ and can be indexed quickly to access specific data\n",
    "\n",
    "In this lesson, we'll focus on **indexing** and **subsetting** DataFrames. Fluency with these operations will improve your workflow, once working with larger datasets. \n",
    "\n",
    "Before we get started, however, let's review **indexing**. Recall from the very first week, where we talked about strings and how they're represented as lists of characters, where each character has an index assigned to it. _Indexing in python begins with 0, not 1_. \n",
    "\n",
    "If I assign the string `\"apple\"` to a variable called `string`. How would I...\n",
    "1. ...extract the letter \"`a`\"??\n",
    "2. ...extract the substring \"`app`\"?\n",
    "3. And what does the \"`:`\" notation, when used by itself, do?"
   ]
  },
  {
   "cell_type": "code",
   "execution_count": 11,
   "metadata": {},
   "outputs": [
    {
     "name": "stdout",
     "output_type": "stream",
     "text": [
      "a\n",
      "app\n",
      "apple\n"
     ]
    }
   ],
   "source": [
    "string = \"apple\"\n",
    "print(string[0])\n",
    "print(string[0:3])\n",
    "print(string[:])"
   ]
  },
  {
   "cell_type": "markdown",
   "metadata": {},
   "source": [
    "**The message here is**, These concepts of indexing and subsetting will translate to working with DataFrames as well. "
   ]
  },
  {
   "cell_type": "markdown",
   "metadata": {},
   "source": [
    "# 1. First, import necessary packages (`pandas`) and import the dataset"
   ]
  },
  {
   "cell_type": "code",
   "execution_count": 1,
   "metadata": {},
   "outputs": [],
   "source": [
    "# importing pandas and reading the data\n",
    "import pandas as pd\n",
    "data = pd.read_csv('data/gapminder_gdp_europe.csv', index_col = 'country')"
   ]
  },
  {
   "cell_type": "code",
   "execution_count": null,
   "metadata": {},
   "outputs": [],
   "source": [
    "# Now, let's take a look at the data, to get a sense of how it's structured\n",
    "print(data)"
   ]
  },
  {
   "cell_type": "markdown",
   "metadata": {},
   "source": [
    "# 2. Two ways to selecting values:"
   ]
  },
  {
   "cell_type": "markdown",
   "metadata": {},
   "source": [
    "### By index: `[DataFrame-Name].iloc()`"
   ]
  },
  {
   "cell_type": "code",
   "execution_count": 7,
   "metadata": {},
   "outputs": [
    {
     "name": "stdout",
     "output_type": "stream",
     "text": [
      "1601.056136\n"
     ]
    }
   ],
   "source": [
    "# Think of `iloc` as \"integer-based location\"\n",
    "# This is the top-most entry of the very first column\n",
    "print(data.iloc[0, 0])"
   ]
  },
  {
   "cell_type": "markdown",
   "metadata": {},
   "source": [
    "### By label: `[DataFrame-Name].loc()`"
   ]
  },
  {
   "cell_type": "code",
   "execution_count": 6,
   "metadata": {},
   "outputs": [
    {
     "name": "stdout",
     "output_type": "stream",
     "text": [
      "1601.056136\n"
     ]
    }
   ],
   "source": [
    "# When referring to **label**, we mean row names and column names\n",
    "# This is an alternative way to extract the top-most entry of the very first column\n",
    "print(data.loc[\"Albania\", \"gdpPercap_1952\"])"
   ]
  },
  {
   "cell_type": "markdown",
   "metadata": {},
   "source": [
    "# 3. Subsetting the data:"
   ]
  },
  {
   "cell_type": "markdown",
   "metadata": {},
   "source": [
    "### Using the `:` notation to extract _rows_\n",
    "Just like when we're working with strings, the \"`:`\" notation helps us \"slice\" the data. When used on its own, it means all columns or all rows."
   ]
  },
  {
   "cell_type": "code",
   "execution_count": 17,
   "metadata": {},
   "outputs": [
    {
     "name": "stdout",
     "output_type": "stream",
     "text": [
      "gdpPercap_1952    1601.056136\n",
      "gdpPercap_1957    1942.284244\n",
      "gdpPercap_1962    2312.888958\n",
      "gdpPercap_1967    2760.196931\n",
      "gdpPercap_1972    3313.422188\n",
      "gdpPercap_1977    3533.003910\n",
      "gdpPercap_1982    3630.880722\n",
      "gdpPercap_1987    3738.932735\n",
      "gdpPercap_1992    2497.437901\n",
      "gdpPercap_1997    3193.054604\n",
      "gdpPercap_2002    4604.211737\n",
      "gdpPercap_2007    5937.029526\n",
      "Name: Albania, dtype: float64\n"
     ]
    }
   ],
   "source": [
    "# Let's print all GDPs over all years for Albania\n",
    "print(data.loc[\"Albania\", :])"
   ]
  },
  {
   "cell_type": "code",
   "execution_count": 18,
   "metadata": {},
   "outputs": [
    {
     "name": "stdout",
     "output_type": "stream",
     "text": [
      "gdpPercap_1952    1601.056136\n",
      "gdpPercap_1957    1942.284244\n",
      "gdpPercap_1962    2312.888958\n",
      "gdpPercap_1967    2760.196931\n",
      "gdpPercap_1972    3313.422188\n",
      "gdpPercap_1977    3533.003910\n",
      "gdpPercap_1982    3630.880722\n",
      "gdpPercap_1987    3738.932735\n",
      "gdpPercap_1992    2497.437901\n",
      "gdpPercap_1997    3193.054604\n",
      "gdpPercap_2002    4604.211737\n",
      "gdpPercap_2007    5937.029526\n",
      "Name: Albania, dtype: float64\n"
     ]
    }
   ],
   "source": [
    "# Note that this can be done in this way as well, but the above method is preffered, because it's more specific\n",
    "print(data.loc[\"Albania\"])"
   ]
  },
  {
   "cell_type": "markdown",
   "metadata": {},
   "source": [
    "### Using the `:` notation to extract _columns_"
   ]
  },
  {
   "cell_type": "code",
   "execution_count": 19,
   "metadata": {},
   "outputs": [
    {
     "name": "stdout",
     "output_type": "stream",
     "text": [
      "country\n",
      "Albania                    1601.056136\n",
      "Austria                    6137.076492\n",
      "Belgium                    8343.105127\n",
      "Bosnia and Herzegovina      973.533195\n",
      "Bulgaria                   2444.286648\n",
      "Croatia                    3119.236520\n",
      "Czech Republic             6876.140250\n",
      "Denmark                    9692.385245\n",
      "Finland                    6424.519071\n",
      "France                     7029.809327\n",
      "Germany                    7144.114393\n",
      "Greece                     3530.690067\n",
      "Hungary                    5263.673816\n",
      "Iceland                    7267.688428\n",
      "Ireland                    5210.280328\n",
      "Italy                      4931.404155\n",
      "Montenegro                 2647.585601\n",
      "Netherlands                8941.571858\n",
      "Norway                    10095.421720\n",
      "Poland                     4029.329699\n",
      "Portugal                   3068.319867\n",
      "Romania                    3144.613186\n",
      "Serbia                     3581.459448\n",
      "Slovak Republic            5074.659104\n",
      "Slovenia                   4215.041741\n",
      "Spain                      3834.034742\n",
      "Sweden                     8527.844662\n",
      "Switzerland               14734.232750\n",
      "Turkey                     1969.100980\n",
      "United Kingdom             9979.508487\n",
      "Name: gdpPercap_1952, dtype: float64\n"
     ]
    }
   ],
   "source": [
    "# Now, let's find every country's GDP in 1952\n",
    "print(data.loc[:, \"gdpPercap_1952\"])"
   ]
  },
  {
   "cell_type": "code",
   "execution_count": 20,
   "metadata": {},
   "outputs": [
    {
     "data": {
      "text/plain": [
       "country\n",
       "Albania                    1601.056136\n",
       "Austria                    6137.076492\n",
       "Belgium                    8343.105127\n",
       "Bosnia and Herzegovina      973.533195\n",
       "Bulgaria                   2444.286648\n",
       "Croatia                    3119.236520\n",
       "Czech Republic             6876.140250\n",
       "Denmark                    9692.385245\n",
       "Finland                    6424.519071\n",
       "France                     7029.809327\n",
       "Germany                    7144.114393\n",
       "Greece                     3530.690067\n",
       "Hungary                    5263.673816\n",
       "Iceland                    7267.688428\n",
       "Ireland                    5210.280328\n",
       "Italy                      4931.404155\n",
       "Montenegro                 2647.585601\n",
       "Netherlands                8941.571858\n",
       "Norway                    10095.421720\n",
       "Poland                     4029.329699\n",
       "Portugal                   3068.319867\n",
       "Romania                    3144.613186\n",
       "Serbia                     3581.459448\n",
       "Slovak Republic            5074.659104\n",
       "Slovenia                   4215.041741\n",
       "Spain                      3834.034742\n",
       "Sweden                     8527.844662\n",
       "Switzerland               14734.232750\n",
       "Turkey                     1969.100980\n",
       "United Kingdom             9979.508487\n",
       "Name: gdpPercap_1952, dtype: float64"
      ]
     },
     "execution_count": 20,
     "metadata": {},
     "output_type": "execute_result"
    }
   ],
   "source": [
    "# This can also be accomplished by the following,\n",
    "data.gdpPercap_1952"
   ]
  },
  {
   "cell_type": "code",
   "execution_count": 22,
   "metadata": {},
   "outputs": [
    {
     "data": {
      "text/plain": [
       "country\n",
       "Albania                    1601.056136\n",
       "Austria                    6137.076492\n",
       "Belgium                    8343.105127\n",
       "Bosnia and Herzegovina      973.533195\n",
       "Bulgaria                   2444.286648\n",
       "Croatia                    3119.236520\n",
       "Czech Republic             6876.140250\n",
       "Denmark                    9692.385245\n",
       "Finland                    6424.519071\n",
       "France                     7029.809327\n",
       "Germany                    7144.114393\n",
       "Greece                     3530.690067\n",
       "Hungary                    5263.673816\n",
       "Iceland                    7267.688428\n",
       "Ireland                    5210.280328\n",
       "Italy                      4931.404155\n",
       "Montenegro                 2647.585601\n",
       "Netherlands                8941.571858\n",
       "Norway                    10095.421720\n",
       "Poland                     4029.329699\n",
       "Portugal                   3068.319867\n",
       "Romania                    3144.613186\n",
       "Serbia                     3581.459448\n",
       "Slovak Republic            5074.659104\n",
       "Slovenia                   4215.041741\n",
       "Spain                      3834.034742\n",
       "Sweden                     8527.844662\n",
       "Switzerland               14734.232750\n",
       "Turkey                     1969.100980\n",
       "United Kingdom             9979.508487\n",
       "Name: gdpPercap_1952, dtype: float64"
      ]
     },
     "execution_count": 22,
     "metadata": {},
     "output_type": "execute_result"
    }
   ],
   "source": [
    "# And the following\n",
    "data[\"gdpPercap_1952\"]"
   ]
  },
  {
   "cell_type": "markdown",
   "metadata": {},
   "source": [
    "### Using the `:` notation to extract _column_ and _row_ ranges"
   ]
  },
  {
   "cell_type": "markdown",
   "metadata": {},
   "source": [
    "#### This uses `.loc()`"
   ]
  },
  {
   "cell_type": "code",
   "execution_count": 23,
   "metadata": {},
   "outputs": [
    {
     "name": "stdout",
     "output_type": "stream",
     "text": [
      "             gdpPercap_1962  gdpPercap_1967  gdpPercap_1972\n",
      "country                                                    \n",
      "Italy           8243.582340    10022.401310    12269.273780\n",
      "Montenegro      4649.593785     5907.850937     7778.414017\n",
      "Netherlands    12790.849560    15363.251360    18794.745670\n",
      "Norway         13450.401510    16361.876470    18965.055510\n",
      "Poland          5338.752143     6557.152776     8006.506993\n"
     ]
    }
   ],
   "source": [
    "# Let's find the GDP per capita between 1962 and 1972, for all countries between and inclusive of Italy and Poland\n",
    "print(data.loc['Italy':'Poland', 'gdpPercap_1962':'gdpPercap_1972'])"
   ]
  },
  {
   "cell_type": "markdown",
   "metadata": {},
   "source": [
    "#### This uses `.iloc()`"
   ]
  },
  {
   "cell_type": "code",
   "execution_count": 26,
   "metadata": {},
   "outputs": [
    {
     "name": "stdout",
     "output_type": "stream",
     "text": [
      "             gdpPercap_1962  gdpPercap_1967  gdpPercap_1972\n",
      "country                                                    \n",
      "Italy           8243.582340    10022.401310    12269.273780\n",
      "Montenegro      4649.593785     5907.850937     7778.414017\n",
      "Netherlands    12790.849560    15363.251360    18794.745670\n",
      "Norway         13450.401510    16361.876470    18965.055510\n",
      "Poland          5338.752143     6557.152776     8006.506993\n"
     ]
    }
   ],
   "source": [
    "print(data.iloc[15:20, 2:5])"
   ]
  },
  {
   "cell_type": "markdown",
   "metadata": {},
   "source": [
    "# 4. Performing operations on these DataFrames\n",
    "All operations that work on the complete DataFrame, work on the subsets and slices as well"
   ]
  },
  {
   "cell_type": "markdown",
   "metadata": {},
   "source": [
    "### Let's find the _maxmimum_ value of each column"
   ]
  },
  {
   "cell_type": "code",
   "execution_count": 28,
   "metadata": {},
   "outputs": [
    {
     "name": "stdout",
     "output_type": "stream",
     "text": [
      "country\n",
      "Italy          12269.273780\n",
      "Montenegro      7778.414017\n",
      "Netherlands    18794.745670\n",
      "Norway         18965.055510\n",
      "Poland          8006.506993\n",
      "dtype: float64\n"
     ]
    }
   ],
   "source": [
    "print(data.loc['Italy':'Poland', 'gdpPercap_1962':'gdpPercap_1972'].max())"
   ]
  },
  {
   "cell_type": "markdown",
   "metadata": {},
   "source": [
    "### Let's find the _minimum_ value of each column"
   ]
  },
  {
   "cell_type": "code",
   "execution_count": 13,
   "metadata": {},
   "outputs": [
    {
     "name": "stdout",
     "output_type": "stream",
     "text": [
      "gdpPercap_1962    4649.593785\n",
      "gdpPercap_1967    5907.850937\n",
      "gdpPercap_1972    7778.414017\n",
      "dtype: float64\n"
     ]
    }
   ],
   "source": [
    "print(data.loc['Italy':'Poland', 'gdpPercap_1962':'gdpPercap_1972'].min())"
   ]
  },
  {
   "cell_type": "markdown",
   "metadata": {},
   "source": [
    "### Let's find the _mean_ and _median_ of each column"
   ]
  },
  {
   "cell_type": "code",
   "execution_count": 14,
   "metadata": {},
   "outputs": [
    {
     "name": "stdout",
     "output_type": "stream",
     "text": [
      "gdpPercap_1962     8894.635868\n",
      "gdpPercap_1967    10842.506571\n",
      "gdpPercap_1972    13162.799194\n",
      "dtype: float64\n"
     ]
    }
   ],
   "source": [
    "# Here is the mean\n",
    "print(data.loc['Italy':'Poland', 'gdpPercap_1962':'gdpPercap_1972'].mean())"
   ]
  },
  {
   "cell_type": "code",
   "execution_count": 29,
   "metadata": {},
   "outputs": [
    {
     "name": "stdout",
     "output_type": "stream",
     "text": [
      "gdpPercap_1962     8243.58234\n",
      "gdpPercap_1967    10022.40131\n",
      "gdpPercap_1972    12269.27378\n",
      "dtype: float64\n"
     ]
    }
   ],
   "source": [
    "# Here is the median\n",
    "print(data.loc['Italy':'Poland', 'gdpPercap_1962':'gdpPercap_1972'].median())"
   ]
  },
  {
   "cell_type": "markdown",
   "metadata": {},
   "source": [
    "# 5. Let's begin talking about boolean masks"
   ]
  },
  {
   "cell_type": "markdown",
   "metadata": {},
   "source": [
    "### Let's begin with a simple case: finding all GDP per capita values over 10,000"
   ]
  },
  {
   "cell_type": "markdown",
   "metadata": {},
   "source": [
    "+ Let's begin by taking the subset of data above--all GDP per capita values between 1962 and 1972 for all countries _between_ and _inclusive of_ Italy and Poland--and assigning it to a variable `subset`.\n",
    "+ Then, let's print it out and take a look"
   ]
  },
  {
   "cell_type": "code",
   "execution_count": 32,
   "metadata": {
    "scrolled": true
   },
   "outputs": [
    {
     "name": "stdout",
     "output_type": "stream",
     "text": [
      "Subset of data:\n",
      "              gdpPercap_1962  gdpPercap_1967  gdpPercap_1972\n",
      "country                                                    \n",
      "Italy           8243.582340    10022.401310    12269.273780\n",
      "Montenegro      4649.593785     5907.850937     7778.414017\n",
      "Netherlands    12790.849560    15363.251360    18794.745670\n",
      "Norway         13450.401510    16361.876470    18965.055510\n",
      "Poland          5338.752143     6557.152776     8006.506993\n"
     ]
    }
   ],
   "source": [
    "subset = data.loc['Italy':'Poland', 'gdpPercap_1962':'gdpPercap_1972']\n",
    "print('Subset of data:\\n', subset)"
   ]
  },
  {
   "cell_type": "markdown",
   "metadata": {},
   "source": [
    "Now, which of these are greater than 10,000? We can, of course, manually go through each value to see if it's greater than 10,000, but surely there's a more expedient way:"
   ]
  },
  {
   "cell_type": "code",
   "execution_count": 34,
   "metadata": {},
   "outputs": [
    {
     "name": "stdout",
     "output_type": "stream",
     "text": [
      "\n",
      "Where are values are greater than 10,000?\n",
      "              gdpPercap_1962  gdpPercap_1967  gdpPercap_1972\n",
      "country                                                    \n",
      "Italy                 False            True            True\n",
      "Montenegro            False           False           False\n",
      "Netherlands            True            True            True\n",
      "Norway                 True            True            True\n",
      "Poland                False           False           False\n"
     ]
    }
   ],
   "source": [
    "# These GDP per capital values are greater than 10000:\n",
    "print('\\nWhere are values are greater than 10,000?\\n', subset > 10000)"
   ]
  },
  {
   "cell_type": "markdown",
   "metadata": {},
   "source": [
    "### In the example above, `subset > 10000` was a _boolean mask_.\n",
    "We can assign this comparison rule (`subset > 10000`) to a variable `mask`"
   ]
  },
  {
   "cell_type": "code",
   "execution_count": 37,
   "metadata": {},
   "outputs": [
    {
     "name": "stdout",
     "output_type": "stream",
     "text": [
      "             gdpPercap_1962  gdpPercap_1967  gdpPercap_1972\n",
      "country                                                    \n",
      "Italy                 False            True            True\n",
      "Montenegro            False           False           False\n",
      "Netherlands            True            True            True\n",
      "Norway                 True            True            True\n",
      "Poland                False           False           False\n"
     ]
    }
   ],
   "source": [
    "mask = subset > 10000\n",
    "print(mask)"
   ]
  },
  {
   "cell_type": "markdown",
   "metadata": {},
   "source": [
    "Now, think of the mask as a filter. When placed in the square brackets of the DataFrame `subset`, it essentially allows the `True` values to be displayed, and witholds the `False` values. _Floating point_ values that are witheld are given a `NaN` or \"not a number\" value."
   ]
  },
  {
   "cell_type": "code",
   "execution_count": 39,
   "metadata": {},
   "outputs": [
    {
     "name": "stdout",
     "output_type": "stream",
     "text": [
      "             gdpPercap_1962  gdpPercap_1967  gdpPercap_1972\n",
      "country                                                    \n",
      "Italy                   NaN     10022.40131     12269.27378\n",
      "Montenegro              NaN             NaN             NaN\n",
      "Netherlands     12790.84956     15363.25136     18794.74567\n",
      "Norway          13450.40151     16361.87647     18965.05551\n",
      "Poland                  NaN             NaN             NaN\n"
     ]
    }
   ],
   "source": [
    "print(subset[mask])"
   ]
  },
  {
   "cell_type": "markdown",
   "metadata": {},
   "source": [
    "Why are `NaN`s useful? They're ignored when you perform operations on masked DataFrames. In other words, if you perform `.median()` or `.min()` operations to the masked subset above, we can only consider the GDP values that are greater than 10,000. Here's an example and comparison of this, between a masked and unmmasked subset of the GDP data."
   ]
  },
  {
   "cell_type": "code",
   "execution_count": 43,
   "metadata": {},
   "outputs": [
    {
     "name": "stdout",
     "output_type": "stream",
     "text": [
      "       gdpPercap_1962  gdpPercap_1967  gdpPercap_1972\n",
      "count        5.000000        5.000000        5.000000\n",
      "mean      8894.635868    10842.506571    13162.799194\n",
      "std       4093.410673     4855.106424     5517.298708\n",
      "min       4649.593785     5907.850937     7778.414017\n",
      "25%       5338.752143     6557.152776     8006.506993\n",
      "50%       8243.582340    10022.401310    12269.273780\n",
      "75%      12790.849560    15363.251360    18794.745670\n",
      "max      13450.401510    16361.876470    18965.055510\n"
     ]
    }
   ],
   "source": [
    "# This is the unmasked subset, which includes all GDP values\n",
    "print(subset.describe())"
   ]
  },
  {
   "cell_type": "code",
   "execution_count": 44,
   "metadata": {},
   "outputs": [
    {
     "name": "stdout",
     "output_type": "stream",
     "text": [
      "       gdpPercap_1962  gdpPercap_1967  gdpPercap_1972\n",
      "count        2.000000        3.000000        3.000000\n",
      "mean     13120.625535    13915.843047    16676.358320\n",
      "std        466.373656     3408.589070     3817.597015\n",
      "min      12790.849560    10022.401310    12269.273780\n",
      "25%      12955.737547    12692.826335    15532.009725\n",
      "50%      13120.625535    15363.251360    18794.745670\n",
      "75%      13285.513523    15862.563915    18879.900590\n",
      "max      13450.401510    16361.876470    18965.055510\n"
     ]
    }
   ],
   "source": [
    "# This is the masked subset, which only includes GDP values greater than 10,000\n",
    "print(subset[mask].describe())"
   ]
  },
  {
   "cell_type": "markdown",
   "metadata": {},
   "source": [
    "# 6. More complex operations with boolean masks"
   ]
  },
  {
   "cell_type": "markdown",
   "metadata": {},
   "source": [
    "Let's create a variable called `mask_higher`, a boolean mask that marks as `True` values greater than the mean of _each column_."
   ]
  },
  {
   "cell_type": "code",
   "execution_count": 50,
   "metadata": {},
   "outputs": [
    {
     "name": "stdout",
     "output_type": "stream",
     "text": [
      "gdpPercap_1952     5661.057435\n",
      "gdpPercap_1957     6963.012816\n",
      "gdpPercap_1962     8365.486814\n",
      "gdpPercap_1967    10143.823757\n",
      "gdpPercap_1972    12479.575246\n",
      "gdpPercap_1977    14283.979110\n",
      "gdpPercap_1982    15617.896551\n",
      "gdpPercap_1987    17214.310727\n",
      "gdpPercap_1992    17061.568084\n",
      "gdpPercap_1997    19076.781802\n",
      "gdpPercap_2002    21711.732422\n",
      "gdpPercap_2007    25054.481636\n",
      "dtype: float64\n"
     ]
    }
   ],
   "source": [
    "# Here is what data.mean() does\n",
    "print(data.mean())"
   ]
  },
  {
   "cell_type": "code",
   "execution_count": null,
   "metadata": {},
   "outputs": [],
   "source": [
    "# Here is the mask_higher variable\n",
    "mask_higher = data > data.mean()\n",
    "print(mask_higher)"
   ]
  },
  {
   "cell_type": "markdown",
   "metadata": {},
   "source": [
    "Now, let's create a **wealth_score** variable that calculates the proportion of GDP values that are greater than the mean, for each country. To do this, we sum up all instances for which `mask_higher` returns `True` for each country, and divide it by the total number of GDP values available (the number of columns or `len(data.columns)`). \n",
    "\n",
    "You may be thinking, how does one perform a sum on `True` and `False` values? Note that the boolean value `True` translates to `1`, and `False` to `0`."
   ]
  },
  {
   "cell_type": "code",
   "execution_count": 59,
   "metadata": {},
   "outputs": [
    {
     "data": {
      "text/plain": [
       "country\n",
       "Albania                   0.000000\n",
       "Austria                   1.000000\n",
       "Belgium                   1.000000\n",
       "Bosnia and Herzegovina    0.000000\n",
       "Bulgaria                  0.000000\n",
       "Croatia                   0.000000\n",
       "Czech Republic            0.500000\n",
       "Denmark                   1.000000\n",
       "Finland                   1.000000\n",
       "France                    1.000000\n",
       "Germany                   1.000000\n",
       "Greece                    0.333333\n",
       "Hungary                   0.000000\n",
       "Iceland                   1.000000\n",
       "Ireland                   0.333333\n",
       "Italy                     0.500000\n",
       "Montenegro                0.000000\n",
       "Netherlands               1.000000\n",
       "Norway                    1.000000\n",
       "Poland                    0.000000\n",
       "Portugal                  0.000000\n",
       "Romania                   0.000000\n",
       "Serbia                    0.000000\n",
       "Slovak Republic           0.000000\n",
       "Slovenia                  0.333333\n",
       "Spain                     0.333333\n",
       "Sweden                    1.000000\n",
       "Switzerland               1.000000\n",
       "Turkey                    0.000000\n",
       "United Kingdom            1.000000\n",
       "dtype: float64"
      ]
     },
     "execution_count": 59,
     "metadata": {},
     "output_type": "execute_result"
    }
   ],
   "source": [
    "wealth_score = mask_higher.aggregate('sum', axis = 1) / len(data.columns)\n",
    "wealth_score"
   ]
  },
  {
   "cell_type": "markdown",
   "metadata": {},
   "source": [
    "Now we can take these wealth_scores and group the data by these scores: all countries with the same score can be grouped together for further analysis. In this case, we're using `mean()`."
   ]
  },
  {
   "cell_type": "code",
   "execution_count": 67,
   "metadata": {
    "scrolled": true
   },
   "outputs": [
    {
     "name": "stdout",
     "output_type": "stream",
     "text": [
      "          gdpPercap_1952  gdpPercap_1957  gdpPercap_1962  gdpPercap_1967  \\\n",
      "0.000000     3076.404517     3842.576566     4737.505453     5943.737399   \n",
      "0.333333     4197.511720     5235.614200     6436.233830     8391.916917   \n",
      "0.500000     5903.772203     7252.500075     9190.224735    10710.923100   \n",
      "1.000000     8693.106463    10611.000728    12499.096183    14833.362503   \n",
      "\n",
      "          gdpPercap_1972  gdpPercap_1977  gdpPercap_1982  gdpPercap_1987  \\\n",
      "0.000000     7380.778908     8704.946536     9462.814042     9970.799951   \n",
      "0.333333    11319.459994    13465.114187    14919.908505    16109.228240   \n",
      "0.500000    12688.863690    14528.072685    15957.356025    17758.839110   \n",
      "1.000000    17930.195262    20095.284394    21949.065163    24735.427601   \n",
      "\n",
      "          gdpPercap_1992  gdpPercap_1997  gdpPercap_2002  gdpPercap_2007  \n",
      "0.000000     7698.337271     8647.744800     9882.577489    12464.779827  \n",
      "0.333333    16979.523305    20219.012895    25521.698802    30700.932380  \n",
      "0.500000    18155.333040    20361.769350    22782.154195    25701.514105  \n",
      "1.000000    26269.852998    28910.910514    32092.494934    35654.194452  \n"
     ]
    }
   ],
   "source": [
    "print(data.groupby(wealth_score).mean())"
   ]
  },
  {
   "cell_type": "markdown",
   "metadata": {},
   "source": [
    "# Challenge exercise 1"
   ]
  },
  {
   "cell_type": "code",
   "execution_count": 68,
   "metadata": {},
   "outputs": [
    {
     "name": "stdout",
     "output_type": "stream",
     "text": [
      "9786.534714\n"
     ]
    }
   ],
   "source": [
    "print(data.loc[\"Serbia\", \"gdpPercap_2007\"])"
   ]
  },
  {
   "cell_type": "markdown",
   "metadata": {},
   "source": [
    "# Challenge exercise 2"
   ]
  },
  {
   "cell_type": "code",
   "execution_count": 70,
   "metadata": {},
   "outputs": [
    {
     "name": "stdout",
     "output_type": "stream",
     "text": [
      "         gdpPercap_1952  gdpPercap_1957\n",
      "country                                \n",
      "Albania     1601.056136     1942.284244\n",
      "Austria     6137.076492     8842.598030\n",
      "         gdpPercap_1952  gdpPercap_1957  gdpPercap_1962\n",
      "country                                                \n",
      "Albania     1601.056136     1942.284244     2312.888958\n",
      "Austria     6137.076492     8842.598030    10750.721110\n",
      "Belgium     8343.105127     9714.960623    10991.206760\n"
     ]
    }
   ],
   "source": [
    "print(data.iloc[0:2, 0:2])\n",
    "print(data.loc['Albania':'Belgium', 'gdpPercap_1952':'gdpPercap_1962'])"
   ]
  },
  {
   "cell_type": "markdown",
   "metadata": {},
   "source": [
    "# Challenge exercise 3"
   ]
  },
  {
   "cell_type": "markdown",
   "metadata": {},
   "source": [
    "# Challenge exercise 4"
   ]
  },
  {
   "cell_type": "code",
   "execution_count": 71,
   "metadata": {},
   "outputs": [
    {
     "name": "stdout",
     "output_type": "stream",
     "text": [
      "gdpPercap_1952    Bosnia and Herzegovina\n",
      "gdpPercap_1957    Bosnia and Herzegovina\n",
      "gdpPercap_1962    Bosnia and Herzegovina\n",
      "gdpPercap_1967    Bosnia and Herzegovina\n",
      "gdpPercap_1972    Bosnia and Herzegovina\n",
      "gdpPercap_1977    Bosnia and Herzegovina\n",
      "gdpPercap_1982                   Albania\n",
      "gdpPercap_1987                   Albania\n",
      "gdpPercap_1992                   Albania\n",
      "gdpPercap_1997                   Albania\n",
      "gdpPercap_2002                   Albania\n",
      "gdpPercap_2007                   Albania\n",
      "dtype: object\n",
      "gdpPercap_1952    Switzerland\n",
      "gdpPercap_1957    Switzerland\n",
      "gdpPercap_1962    Switzerland\n",
      "gdpPercap_1967    Switzerland\n",
      "gdpPercap_1972    Switzerland\n",
      "gdpPercap_1977    Switzerland\n",
      "gdpPercap_1982    Switzerland\n",
      "gdpPercap_1987         Norway\n",
      "gdpPercap_1992         Norway\n",
      "gdpPercap_1997         Norway\n",
      "gdpPercap_2002         Norway\n",
      "gdpPercap_2007         Norway\n",
      "dtype: object\n"
     ]
    }
   ],
   "source": [
    "data = pd.read_csv('data/gapminder_gdp_europe.csv', index_col='country')\n",
    "print(data.idxmin())\n",
    "print(data.idxmax())"
   ]
  },
  {
   "cell_type": "markdown",
   "metadata": {},
   "source": [
    "# Challenge exercise 5"
   ]
  },
  {
   "cell_type": "code",
   "execution_count": 73,
   "metadata": {},
   "outputs": [
    {
     "data": {
      "text/plain": [
       "country\n",
       "Albania                    3630.880722\n",
       "Austria                   21597.083620\n",
       "Belgium                   20979.845890\n",
       "Bosnia and Herzegovina     4126.613157\n",
       "Bulgaria                   8224.191647\n",
       "Croatia                   13221.821840\n",
       "Czech Republic            15377.228550\n",
       "Denmark                   21688.040480\n",
       "Finland                   18533.157610\n",
       "France                    20293.897460\n",
       "Germany                   22031.532740\n",
       "Greece                    15268.420890\n",
       "Hungary                   12545.990660\n",
       "Iceland                   23269.607500\n",
       "Ireland                   12618.321410\n",
       "Italy                     16537.483500\n",
       "Montenegro                11222.587620\n",
       "Netherlands               21399.460460\n",
       "Norway                    26298.635310\n",
       "Poland                     8451.531004\n",
       "Portugal                  11753.842910\n",
       "Romania                    9605.314053\n",
       "Serbia                    15181.092700\n",
       "Slovak Republic           11348.545850\n",
       "Slovenia                  17866.721750\n",
       "Spain                     13926.169970\n",
       "Sweden                    20667.381250\n",
       "Switzerland               28397.715120\n",
       "Turkey                     4241.356344\n",
       "United Kingdom            18232.424520\n",
       "Name: gdpPercap_1982, dtype: float64"
      ]
     },
     "execution_count": 73,
     "metadata": {},
     "output_type": "execute_result"
    }
   ],
   "source": [
    "# 1. GDP per capita for all countries in 1982.\n",
    "data.loc[:, \"gdpPercap_1982\"]"
   ]
  },
  {
   "cell_type": "code",
   "execution_count": 74,
   "metadata": {},
   "outputs": [
    {
     "data": {
      "text/plain": [
       "gdpPercap_1952     9692.385245\n",
       "gdpPercap_1957    11099.659350\n",
       "gdpPercap_1962    13583.313510\n",
       "gdpPercap_1967    15937.211230\n",
       "gdpPercap_1972    18866.207210\n",
       "gdpPercap_1977    20422.901500\n",
       "gdpPercap_1982    21688.040480\n",
       "gdpPercap_1987    25116.175810\n",
       "gdpPercap_1992    26406.739850\n",
       "gdpPercap_1997    29804.345670\n",
       "gdpPercap_2002    32166.500060\n",
       "gdpPercap_2007    35278.418740\n",
       "Name: Denmark, dtype: float64"
      ]
     },
     "execution_count": 74,
     "metadata": {},
     "output_type": "execute_result"
    }
   ],
   "source": [
    "# 2. GDP per capita for Denmark for all years.\n",
    "data.loc[\"Denmark\", :]"
   ]
  },
  {
   "cell_type": "code",
   "execution_count": null,
   "metadata": {},
   "outputs": [],
   "source": [
    "# 3. GDP per capita for all countries for years after 1985.\n",
    "data.loc[:, \"gdpPercap_1985\":]"
   ]
  },
  {
   "cell_type": "code",
   "execution_count": 83,
   "metadata": {},
   "outputs": [
    {
     "name": "stdout",
     "output_type": "stream",
     "text": [
      "country\n",
      "Albania                   3.708196\n",
      "Austria                   5.886596\n",
      "Belgium                   4.038377\n",
      "Bosnia and Herzegovina    7.648736\n",
      "Bulgaria                  4.369697\n",
      "Croatia                   4.686795\n",
      "Czech Republic            3.320658\n",
      "Denmark                   3.639808\n",
      "Finland                   5.168805\n",
      "France                    4.334402\n",
      "Germany                   4.503060\n",
      "Greece                    7.799725\n",
      "Hungary                   3.421364\n",
      "Iceland                   4.978308\n",
      "Ireland                   7.806873\n",
      "Italy                     5.793425\n",
      "Montenegro                3.495221\n",
      "Netherlands               4.115376\n",
      "Norway                    4.889067\n",
      "Poland                    3.819475\n",
      "Portugal                  6.684325\n",
      "Romania                   3.437140\n",
      "Serbia                    2.732555\n",
      "Slovak Republic           3.680703\n",
      "Slovenia                  6.113405\n",
      "Spain                     7.517163\n",
      "Sweden                    3.970493\n",
      "Switzerland               2.545529\n",
      "Turkey                    4.295502\n",
      "United Kingdom            3.327144\n",
      "dtype: float64\n"
     ]
    }
   ],
   "source": [
    "# 4. GDP per capita for each country in 2007 as a multiple of GDP per capita for that country in 1952.\n",
    "print(data[\"gdpPercap_2007\"] / data[\"gdpPercap_1952\"])"
   ]
  },
  {
   "cell_type": "markdown",
   "metadata": {},
   "source": [
    "# Challenge exercise 6"
   ]
  },
  {
   "cell_type": "code",
   "execution_count": 43,
   "metadata": {},
   "outputs": [
    {
     "data": {
      "text/plain": [
       "['T',\n",
       " '_AXIS_ALIASES',\n",
       " '_AXIS_IALIASES',\n",
       " '_AXIS_LEN',\n",
       " '_AXIS_NAMES',\n",
       " '_AXIS_NUMBERS',\n",
       " '_AXIS_ORDERS',\n",
       " '_AXIS_REVERSED',\n",
       " '_AXIS_SLICEMAP',\n",
       " '__abs__',\n",
       " '__add__',\n",
       " '__and__',\n",
       " '__array__',\n",
       " '__array_priority__',\n",
       " '__array_wrap__',\n",
       " '__bool__',\n",
       " '__bytes__',\n",
       " '__class__',\n",
       " '__contains__',\n",
       " '__copy__',\n",
       " '__deepcopy__',\n",
       " '__delattr__',\n",
       " '__delitem__',\n",
       " '__dict__',\n",
       " '__dir__',\n",
       " '__div__',\n",
       " '__doc__',\n",
       " '__eq__',\n",
       " '__finalize__',\n",
       " '__floordiv__',\n",
       " '__format__',\n",
       " '__ge__',\n",
       " '__getattr__',\n",
       " '__getattribute__',\n",
       " '__getitem__',\n",
       " '__getstate__',\n",
       " '__gt__',\n",
       " '__hash__',\n",
       " '__iadd__',\n",
       " '__iand__',\n",
       " '__ifloordiv__',\n",
       " '__imod__',\n",
       " '__imul__',\n",
       " '__init__',\n",
       " '__init_subclass__',\n",
       " '__invert__',\n",
       " '__ior__',\n",
       " '__ipow__',\n",
       " '__isub__',\n",
       " '__iter__',\n",
       " '__itruediv__',\n",
       " '__ixor__',\n",
       " '__le__',\n",
       " '__len__',\n",
       " '__lt__',\n",
       " '__matmul__',\n",
       " '__mod__',\n",
       " '__module__',\n",
       " '__mul__',\n",
       " '__ne__',\n",
       " '__neg__',\n",
       " '__new__',\n",
       " '__nonzero__',\n",
       " '__or__',\n",
       " '__pos__',\n",
       " '__pow__',\n",
       " '__radd__',\n",
       " '__rand__',\n",
       " '__rdiv__',\n",
       " '__reduce__',\n",
       " '__reduce_ex__',\n",
       " '__repr__',\n",
       " '__rfloordiv__',\n",
       " '__rmatmul__',\n",
       " '__rmod__',\n",
       " '__rmul__',\n",
       " '__ror__',\n",
       " '__round__',\n",
       " '__rpow__',\n",
       " '__rsub__',\n",
       " '__rtruediv__',\n",
       " '__rxor__',\n",
       " '__setattr__',\n",
       " '__setitem__',\n",
       " '__setstate__',\n",
       " '__sizeof__',\n",
       " '__str__',\n",
       " '__sub__',\n",
       " '__subclasshook__',\n",
       " '__truediv__',\n",
       " '__unicode__',\n",
       " '__weakref__',\n",
       " '__xor__',\n",
       " '_accessors',\n",
       " '_add_numeric_operations',\n",
       " '_add_series_only_operations',\n",
       " '_add_series_or_dataframe_operations',\n",
       " '_agg_by_level',\n",
       " '_agg_examples_doc',\n",
       " '_agg_summary_and_see_also_doc',\n",
       " '_aggregate',\n",
       " '_aggregate_multiple_funcs',\n",
       " '_align_frame',\n",
       " '_align_series',\n",
       " '_box_col_values',\n",
       " '_box_item_values',\n",
       " '_builtin_table',\n",
       " '_check_inplace_setting',\n",
       " '_check_is_chained_assignment_possible',\n",
       " '_check_label_or_level_ambiguity',\n",
       " '_check_percentile',\n",
       " '_check_setitem_copy',\n",
       " '_clear_item_cache',\n",
       " '_clip_with_one_bound',\n",
       " '_clip_with_scalar',\n",
       " '_combine_const',\n",
       " '_combine_frame',\n",
       " '_combine_match_columns',\n",
       " '_combine_match_index',\n",
       " '_consolidate',\n",
       " '_consolidate_inplace',\n",
       " '_construct_axes_dict',\n",
       " '_construct_axes_dict_for_slice',\n",
       " '_construct_axes_dict_from',\n",
       " '_construct_axes_from_arguments',\n",
       " '_constructor',\n",
       " '_constructor_expanddim',\n",
       " '_constructor_sliced',\n",
       " '_convert',\n",
       " '_count_level',\n",
       " '_create_indexer',\n",
       " '_cython_table',\n",
       " '_deprecations',\n",
       " '_dir_additions',\n",
       " '_dir_deletions',\n",
       " '_drop_axis',\n",
       " '_drop_labels_or_levels',\n",
       " '_ensure_valid_index',\n",
       " '_expand_axes',\n",
       " '_find_valid_index',\n",
       " '_from_arrays',\n",
       " '_from_axes',\n",
       " '_get_agg_axis',\n",
       " '_get_axis',\n",
       " '_get_axis_name',\n",
       " '_get_axis_number',\n",
       " '_get_axis_resolvers',\n",
       " '_get_block_manager_axis',\n",
       " '_get_bool_data',\n",
       " '_get_cacher',\n",
       " '_get_index_resolvers',\n",
       " '_get_item_cache',\n",
       " '_get_label_or_level_values',\n",
       " '_get_numeric_data',\n",
       " '_get_value',\n",
       " '_get_values',\n",
       " '_getitem_bool_array',\n",
       " '_getitem_frame',\n",
       " '_getitem_multilevel',\n",
       " '_gotitem',\n",
       " '_iget_item_cache',\n",
       " '_indexed_same',\n",
       " '_info_axis',\n",
       " '_info_axis_name',\n",
       " '_info_axis_number',\n",
       " '_info_repr',\n",
       " '_init_mgr',\n",
       " '_internal_names',\n",
       " '_internal_names_set',\n",
       " '_is_builtin_func',\n",
       " '_is_cached',\n",
       " '_is_copy',\n",
       " '_is_cython_func',\n",
       " '_is_datelike_mixed_type',\n",
       " '_is_homogeneous_type',\n",
       " '_is_label_or_level_reference',\n",
       " '_is_label_reference',\n",
       " '_is_level_reference',\n",
       " '_is_mixed_type',\n",
       " '_is_numeric_mixed_type',\n",
       " '_is_view',\n",
       " '_ix',\n",
       " '_ixs',\n",
       " '_join_compat',\n",
       " '_maybe_cache_changed',\n",
       " '_maybe_update_cacher',\n",
       " '_metadata',\n",
       " '_needs_reindex_multi',\n",
       " '_obj_with_exclusions',\n",
       " '_protect_consolidate',\n",
       " '_reduce',\n",
       " '_reindex_axes',\n",
       " '_reindex_columns',\n",
       " '_reindex_index',\n",
       " '_reindex_multi',\n",
       " '_reindex_with_indexers',\n",
       " '_repr_data_resource_',\n",
       " '_repr_fits_horizontal_',\n",
       " '_repr_fits_vertical_',\n",
       " '_repr_html_',\n",
       " '_repr_latex_',\n",
       " '_reset_cache',\n",
       " '_reset_cacher',\n",
       " '_sanitize_column',\n",
       " '_selected_obj',\n",
       " '_selection',\n",
       " '_selection_list',\n",
       " '_selection_name',\n",
       " '_series',\n",
       " '_set_as_cached',\n",
       " '_set_axis',\n",
       " '_set_axis_name',\n",
       " '_set_is_copy',\n",
       " '_set_item',\n",
       " '_set_value',\n",
       " '_setitem_array',\n",
       " '_setitem_frame',\n",
       " '_setitem_slice',\n",
       " '_setup_axes',\n",
       " '_shallow_copy',\n",
       " '_slice',\n",
       " '_stat_axis',\n",
       " '_stat_axis_name',\n",
       " '_stat_axis_number',\n",
       " '_take',\n",
       " '_to_dict_of_blocks',\n",
       " '_try_aggregate_string_function',\n",
       " '_typ',\n",
       " '_unpickle_frame_compat',\n",
       " '_unpickle_matrix_compat',\n",
       " '_update_inplace',\n",
       " '_validate_dtype',\n",
       " '_values',\n",
       " '_where',\n",
       " '_xs',\n",
       " 'abs',\n",
       " 'add',\n",
       " 'add_prefix',\n",
       " 'add_suffix',\n",
       " 'agg',\n",
       " 'aggregate',\n",
       " 'align',\n",
       " 'all',\n",
       " 'any',\n",
       " 'append',\n",
       " 'apply',\n",
       " 'applymap',\n",
       " 'as_matrix',\n",
       " 'asfreq',\n",
       " 'asof',\n",
       " 'assign',\n",
       " 'astype',\n",
       " 'at',\n",
       " 'at_time',\n",
       " 'axes',\n",
       " 'between_time',\n",
       " 'bfill',\n",
       " 'bool',\n",
       " 'boxplot',\n",
       " 'clip',\n",
       " 'clip_lower',\n",
       " 'clip_upper',\n",
       " 'columns',\n",
       " 'combine',\n",
       " 'combine_first',\n",
       " 'compound',\n",
       " 'copy',\n",
       " 'corr',\n",
       " 'corrwith',\n",
       " 'count',\n",
       " 'cov',\n",
       " 'cummax',\n",
       " 'cummin',\n",
       " 'cumprod',\n",
       " 'cumsum',\n",
       " 'describe',\n",
       " 'diff',\n",
       " 'div',\n",
       " 'divide',\n",
       " 'dot',\n",
       " 'drop',\n",
       " 'drop_duplicates',\n",
       " 'droplevel',\n",
       " 'dropna',\n",
       " 'dtypes',\n",
       " 'duplicated',\n",
       " 'empty',\n",
       " 'eq',\n",
       " 'equals',\n",
       " 'eval',\n",
       " 'ewm',\n",
       " 'expanding',\n",
       " 'ffill',\n",
       " 'fillna',\n",
       " 'filter',\n",
       " 'first',\n",
       " 'first_valid_index',\n",
       " 'floordiv',\n",
       " 'from_dict',\n",
       " 'from_records',\n",
       " 'ftypes',\n",
       " 'gdpPercap_1952',\n",
       " 'gdpPercap_1957',\n",
       " 'gdpPercap_1962',\n",
       " 'gdpPercap_1967',\n",
       " 'gdpPercap_1972',\n",
       " 'gdpPercap_1977',\n",
       " 'gdpPercap_1982',\n",
       " 'gdpPercap_1987',\n",
       " 'gdpPercap_1992',\n",
       " 'gdpPercap_1997',\n",
       " 'gdpPercap_2002',\n",
       " 'gdpPercap_2007',\n",
       " 'ge',\n",
       " 'get',\n",
       " 'get_dtype_counts',\n",
       " 'get_ftype_counts',\n",
       " 'get_values',\n",
       " 'groupby',\n",
       " 'gt',\n",
       " 'head',\n",
       " 'hist',\n",
       " 'iat',\n",
       " 'idxmax',\n",
       " 'idxmin',\n",
       " 'iloc',\n",
       " 'index',\n",
       " 'infer_objects',\n",
       " 'info',\n",
       " 'insert',\n",
       " 'interpolate',\n",
       " 'isin',\n",
       " 'isna',\n",
       " 'isnull',\n",
       " 'items',\n",
       " 'iteritems',\n",
       " 'iterrows',\n",
       " 'itertuples',\n",
       " 'ix',\n",
       " 'join',\n",
       " 'keys',\n",
       " 'kurt',\n",
       " 'kurtosis',\n",
       " 'last',\n",
       " 'last_valid_index',\n",
       " 'le',\n",
       " 'loc',\n",
       " 'lookup',\n",
       " 'lt',\n",
       " 'mad',\n",
       " 'mask',\n",
       " 'max',\n",
       " 'mean',\n",
       " 'median',\n",
       " 'melt',\n",
       " 'memory_usage',\n",
       " 'merge',\n",
       " 'min',\n",
       " 'mod',\n",
       " 'mode',\n",
       " 'mul',\n",
       " 'multiply',\n",
       " 'ndim',\n",
       " 'ne',\n",
       " 'nlargest',\n",
       " 'notna',\n",
       " 'notnull',\n",
       " 'nsmallest',\n",
       " 'nunique',\n",
       " 'pct_change',\n",
       " 'pipe',\n",
       " 'pivot',\n",
       " 'pivot_table',\n",
       " 'plot',\n",
       " 'pop',\n",
       " 'pow',\n",
       " 'prod',\n",
       " 'product',\n",
       " 'quantile',\n",
       " 'query',\n",
       " 'radd',\n",
       " 'rank',\n",
       " 'rdiv',\n",
       " 'reindex',\n",
       " 'reindex_axis',\n",
       " 'reindex_like',\n",
       " 'rename',\n",
       " 'rename_axis',\n",
       " 'reorder_levels',\n",
       " 'replace',\n",
       " 'resample',\n",
       " 'reset_index',\n",
       " 'rfloordiv',\n",
       " 'rmod',\n",
       " 'rmul',\n",
       " 'rolling',\n",
       " 'round',\n",
       " 'rpow',\n",
       " 'rsub',\n",
       " 'rtruediv',\n",
       " 'sample',\n",
       " 'select',\n",
       " 'select_dtypes',\n",
       " 'sem',\n",
       " 'set_axis',\n",
       " 'set_index',\n",
       " 'shape',\n",
       " 'shift',\n",
       " 'size',\n",
       " 'skew',\n",
       " 'slice_shift',\n",
       " 'sort_index',\n",
       " 'sort_values',\n",
       " 'squeeze',\n",
       " 'stack',\n",
       " 'std',\n",
       " 'style',\n",
       " 'sub',\n",
       " 'subtract',\n",
       " 'sum',\n",
       " 'swapaxes',\n",
       " 'swaplevel',\n",
       " 'tail',\n",
       " 'take',\n",
       " 'timetuple',\n",
       " 'to_clipboard',\n",
       " 'to_csv',\n",
       " 'to_dense',\n",
       " 'to_dict',\n",
       " 'to_excel',\n",
       " 'to_feather',\n",
       " 'to_gbq',\n",
       " 'to_hdf',\n",
       " 'to_html',\n",
       " 'to_json',\n",
       " 'to_latex',\n",
       " 'to_msgpack',\n",
       " 'to_numpy',\n",
       " 'to_panel',\n",
       " 'to_parquet',\n",
       " 'to_period',\n",
       " 'to_pickle',\n",
       " 'to_records',\n",
       " 'to_sparse',\n",
       " 'to_sql',\n",
       " 'to_stata',\n",
       " 'to_string',\n",
       " 'to_timestamp',\n",
       " 'to_xarray',\n",
       " 'transform',\n",
       " 'transpose',\n",
       " 'truediv',\n",
       " 'truncate',\n",
       " 'tshift',\n",
       " 'tz_convert',\n",
       " 'tz_localize',\n",
       " 'unstack',\n",
       " 'update',\n",
       " 'values',\n",
       " 'var',\n",
       " 'where',\n",
       " 'xs']"
      ]
     },
     "execution_count": 43,
     "metadata": {},
     "output_type": "execute_result"
    }
   ],
   "source": [
    "dir(data)"
   ]
  },
  {
   "cell_type": "code",
   "execution_count": 84,
   "metadata": {},
   "outputs": [
    {
     "data": {
      "text/plain": [
       "gdpPercap_1952     5142.469716\n",
       "gdpPercap_1957     6066.721495\n",
       "gdpPercap_1962     7515.733738\n",
       "gdpPercap_1967     9366.067033\n",
       "gdpPercap_1972    12326.379990\n",
       "gdpPercap_1977    14225.754515\n",
       "gdpPercap_1982    15322.824720\n",
       "gdpPercap_1987    16215.485895\n",
       "gdpPercap_1992    17550.155945\n",
       "gdpPercap_1997    19596.498550\n",
       "gdpPercap_2002    23674.863230\n",
       "gdpPercap_2007    28054.065790\n",
       "dtype: float64"
      ]
     },
     "execution_count": 84,
     "metadata": {},
     "output_type": "execute_result"
    }
   ],
   "source": [
    "data.median()"
   ]
  },
  {
   "cell_type": "markdown",
   "metadata": {},
   "source": [
    "# Challenge exercise 7"
   ]
  },
  {
   "cell_type": "code",
   "execution_count": 86,
   "metadata": {},
   "outputs": [],
   "source": [
    "# Discuss this with students"
   ]
  }
 ],
 "metadata": {
  "kernelspec": {
   "display_name": "Python 3",
   "language": "python",
   "name": "python3"
  },
  "language_info": {
   "codemirror_mode": {
    "name": "ipython",
    "version": 3
   },
   "file_extension": ".py",
   "mimetype": "text/x-python",
   "name": "python",
   "nbconvert_exporter": "python",
   "pygments_lexer": "ipython3",
   "version": "3.7.3"
  }
 },
 "nbformat": 4,
 "nbformat_minor": 2
}
