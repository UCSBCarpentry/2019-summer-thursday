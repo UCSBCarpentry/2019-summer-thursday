{
 "cells": [
  {
   "cell_type": "code",
   "execution_count": 5,
   "metadata": {},
   "outputs": [
    {
     "data": {
      "text/plain": [
       "'data/gapminder_gdp_africa.csv'"
      ]
     },
     "metadata": {},
     "output_type": "display_data"
    },
    {
     "data": {
      "text/plain": [
       "gdpPercap_1952    298.846212\n",
       "gdpPercap_1957    335.997115\n",
       "gdpPercap_1962    355.203227\n",
       "gdpPercap_1967    412.977514\n",
       "gdpPercap_1972    464.099504\n",
       "gdpPercap_1977    502.319733\n",
       "gdpPercap_1982    462.211415\n",
       "gdpPercap_1987    389.876185\n",
       "gdpPercap_1992    410.896824\n",
       "gdpPercap_1997    312.188423\n",
       "gdpPercap_2002    241.165877\n",
       "gdpPercap_2007    277.551859\n",
       "dtype: float64"
      ]
     },
     "metadata": {},
     "output_type": "display_data"
    },
    {
     "name": "stdout",
     "output_type": "stream",
     "text": [
      "number of times my loop ran: 1\n"
     ]
    },
    {
     "data": {
      "text/plain": [
       "'data/gapminder_gdp_asia.csv'"
      ]
     },
     "metadata": {},
     "output_type": "display_data"
    },
    {
     "data": {
      "text/plain": [
       "gdpPercap_1952    331.0\n",
       "gdpPercap_1957    350.0\n",
       "gdpPercap_1962    388.0\n",
       "gdpPercap_1967    349.0\n",
       "gdpPercap_1972    357.0\n",
       "gdpPercap_1977    371.0\n",
       "gdpPercap_1982    424.0\n",
       "gdpPercap_1987    385.0\n",
       "gdpPercap_1992    347.0\n",
       "gdpPercap_1997    415.0\n",
       "gdpPercap_2002    611.0\n",
       "gdpPercap_2007    944.0\n",
       "dtype: float64"
      ]
     },
     "metadata": {},
     "output_type": "display_data"
    },
    {
     "name": "stdout",
     "output_type": "stream",
     "text": [
      "number of times my loop ran: 2\n"
     ]
    }
   ],
   "source": [
    "import pandas as pd\n",
    "loop = 0\n",
    "for filename in ['data/gapminder_gdp_africa.csv', 'data/gapminder_gdp_asia.csv']:\n",
    "    data = pd.read_csv(filename, index_col = 'country')\n",
    "    loop = loop + 1\n",
    "    #print(filename, data.min())\n",
    "    #let's try display instead of print here\n",
    "    display(filename, data.min())\n",
    "    print('number of times my loop ran:', loop)\n"
   ]
  },
  {
   "cell_type": "code",
   "execution_count": 7,
   "metadata": {},
   "outputs": [
    {
     "data": {
      "text/plain": [
       "'all csv files in data directory:'"
      ]
     },
     "metadata": {},
     "output_type": "display_data"
    },
    {
     "data": {
      "text/plain": [
       "['data/gapminder_gdp_americas.csv',\n",
       " 'data/gapminder_gdp_europe.csv',\n",
       " 'data/gapminder_all.csv',\n",
       " 'data/gapminder_gdp_oceania.csv',\n",
       " 'data/gapminder_gdp_africa.csv',\n",
       " 'data/gapminder_gdp_asia.csv']"
      ]
     },
     "metadata": {},
     "output_type": "display_data"
    }
   ],
   "source": [
    "#use glob.glob to find sets of files whose names match a pattern\n",
    "# * means \"match zero or more characters\"\n",
    "import glob\n",
    "display('all csv files in data directory:', glob.glob('data/*.csv')) #i used display here to display more nicely than print"
   ]
  },
  {
   "cell_type": "code",
   "execution_count": 9,
   "metadata": {},
   "outputs": [
    {
     "name": "stdout",
     "output_type": "stream",
     "text": [
      "all PDF files: []\n"
     ]
    },
    {
     "data": {
      "text/plain": [
       "'all PDF files:'"
      ]
     },
     "metadata": {},
     "output_type": "display_data"
    },
    {
     "data": {
      "text/plain": [
       "[]"
      ]
     },
     "metadata": {},
     "output_type": "display_data"
    }
   ],
   "source": [
    "print('all PDF files:', glob.glob('data/*.pdf'))\n",
    "display('all PDF files:', glob.glob('data/*.pdf'))\n"
   ]
  },
  {
   "cell_type": "code",
   "execution_count": 10,
   "metadata": {},
   "outputs": [
    {
     "data": {
      "text/plain": [
       "'data/gapminder_gdp_americas.csv'"
      ]
     },
     "metadata": {},
     "output_type": "display_data"
    },
    {
     "data": {
      "text/plain": [
       "1397.7171369999999"
      ]
     },
     "metadata": {},
     "output_type": "display_data"
    },
    {
     "data": {
      "text/plain": [
       "'data/gapminder_gdp_europe.csv'"
      ]
     },
     "metadata": {},
     "output_type": "display_data"
    },
    {
     "data": {
      "text/plain": [
       "973.5331947999999"
      ]
     },
     "metadata": {},
     "output_type": "display_data"
    },
    {
     "data": {
      "text/plain": [
       "'data/gapminder_all.csv'"
      ]
     },
     "metadata": {},
     "output_type": "display_data"
    },
    {
     "data": {
      "text/plain": [
       "298.8462121"
      ]
     },
     "metadata": {},
     "output_type": "display_data"
    },
    {
     "data": {
      "text/plain": [
       "'data/gapminder_gdp_oceania.csv'"
      ]
     },
     "metadata": {},
     "output_type": "display_data"
    },
    {
     "data": {
      "text/plain": [
       "10039.595640000001"
      ]
     },
     "metadata": {},
     "output_type": "display_data"
    },
    {
     "data": {
      "text/plain": [
       "'data/gapminder_gdp_africa.csv'"
      ]
     },
     "metadata": {},
     "output_type": "display_data"
    },
    {
     "data": {
      "text/plain": [
       "298.8462121"
      ]
     },
     "metadata": {},
     "output_type": "display_data"
    },
    {
     "data": {
      "text/plain": [
       "'data/gapminder_gdp_asia.csv'"
      ]
     },
     "metadata": {},
     "output_type": "display_data"
    },
    {
     "data": {
      "text/plain": [
       "331.0"
      ]
     },
     "metadata": {},
     "output_type": "display_data"
    }
   ],
   "source": [
    "# use glob and for to process batches of files\n",
    "#remember * means matching zero or more characters\n",
    "for filename in glob.glob('data/gapminder_*.csv'):\n",
    "    data = pd.read_csv(filename)\n",
    "    display(filename, data['gdpPercap_1952'].min())\n",
    "    #this should display name of file, and the min value for gdpPercap in 1952\n",
    "    #should match # of files within data folder"
   ]
  },
  {
   "cell_type": "code",
   "execution_count": 11,
   "metadata": {},
   "outputs": [
    {
     "ename": "NameError",
     "evalue": "name 'grep' is not defined",
     "output_type": "error",
     "traceback": [
      "\u001b[0;31m---------------------------------------------------------------------------\u001b[0m",
      "\u001b[0;31mNameError\u001b[0m                                 Traceback (most recent call last)",
      "\u001b[0;32m<ipython-input-11-e9b7d98bb992>\u001b[0m in \u001b[0;36m<module>\u001b[0;34m()\u001b[0m\n\u001b[0;32m----> 1\u001b[0;31m \u001b[0mhelp\u001b[0m\u001b[0;34m(\u001b[0m\u001b[0mgrep\u001b[0m\u001b[0;34m)\u001b[0m\u001b[0;34m\u001b[0m\u001b[0m\n\u001b[0m",
      "\u001b[0;31mNameError\u001b[0m: name 'grep' is not defined"
     ]
    }
   ],
   "source": [
    "help(grep)\n"
   ]
  },
  {
   "cell_type": "code",
   "execution_count": null,
   "metadata": {},
   "outputs": [],
   "source": []
  }
 ],
 "metadata": {
  "kernelspec": {
   "display_name": "Python 3",
   "language": "python",
   "name": "python3"
  },
  "language_info": {
   "codemirror_mode": {
    "name": "ipython",
    "version": 3
   },
   "file_extension": ".py",
   "mimetype": "text/x-python",
   "name": "python",
   "nbconvert_exporter": "python",
   "pygments_lexer": "ipython3",
   "version": "3.7.0"
  }
 },
 "nbformat": 4,
 "nbformat_minor": 2
}
