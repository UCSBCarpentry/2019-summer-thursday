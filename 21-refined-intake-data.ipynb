{
 "cells": [
  {
   "cell_type": "code",
   "execution_count": 14,
   "metadata": {},
   "outputs": [
    {
     "name": "stdout",
     "output_type": "stream",
     "text": [
      "Intakes Per Clinicians 5.705882352941177\n"
     ]
    }
   ],
   "source": [
    "import pandas as pd\n",
    "df = pd.read_csv(\"drewsdata/intakedata20181-20193.csv\")\n",
    "#display(df)\n",
    "matchintakes = [(df[\"Quarter\"] == \"Fall 2018\") &\n",
    "                    (df[\"Week\"] == 2)]\n",
    "#display(matchintakes)\n",
    "numIntakes = int(df[(df[\"Quarter\"] == \"Fall 2018\") &\n",
    "                    (df[\"Week\"] == 2)][\"Intakes\"])\n",
    "#display(numIntakes)\n",
    "#assume clinicians is 17\n",
    "intakesperclinicians = numIntakes/17\n",
    "print(\"Intakes Per Clinicians:\", intakesperclinicians)\n",
    "#(Notice the parentheses on either side of the & operator--- they are necessary.)\n"
   ]
  },
  {
   "cell_type": "code",
   "execution_count": 16,
   "metadata": {},
   "outputs": [
    {
     "name": "stdin",
     "output_type": "stream",
     "text": [
      "Quarter, e.g., 'Fall 2018': Winter 2019\n",
      "Week number: 3\n",
      "Number of doctors working: 30\n"
     ]
    },
    {
     "name": "stdout",
     "output_type": "stream",
     "text": [
      "3.1666666666666665\n"
     ]
    }
   ],
   "source": [
    "#Then, to turn this into a script that prompts for input:\n",
    "\n",
    "import pandas as pd\n",
    "quarter = input(\"Quarter, e.g., 'Fall 2018':\")\n",
    "week = int(input(\"Week number:\"))\n",
    "numDoctors = int(input(\"Number of doctors working:\"))\n",
    "df = pd.read_csv(\"drewsdata/intakedata20181-20193.csv\")\n",
    "numIntakes = int(df[(df[\"Quarter\"] == quarter) & \n",
    "                    (df[\"Week\"] == week)][\"Intakes\"])\n",
    "print(numIntakes/numDoctors)"
   ]
  },
  {
   "cell_type": "code",
   "execution_count": 20,
   "metadata": {},
   "outputs": [
    {
     "ename": "ValueError",
     "evalue": "invalid literal for int() with base 10: '/Users/swsolis/Library/Jupyter/runtime/kernel-bdb8aadb-c7bf-4ec2-80a9-2139f9fe0afc.json'",
     "output_type": "error",
     "traceback": [
      "\u001b[0;31m---------------------------------------------------------------------------\u001b[0m",
      "\u001b[0;31mValueError\u001b[0m                                Traceback (most recent call last)",
      "\u001b[0;32m<ipython-input-20-671c33a38091>\u001b[0m in \u001b[0;36m<module>\u001b[0;34m()\u001b[0m\n\u001b[1;32m      4\u001b[0m \u001b[0;32mimport\u001b[0m \u001b[0mpandas\u001b[0m \u001b[0;32mas\u001b[0m \u001b[0mpd\u001b[0m\u001b[0;34m\u001b[0m\u001b[0m\n\u001b[1;32m      5\u001b[0m \u001b[0mquarter\u001b[0m \u001b[0;34m=\u001b[0m \u001b[0msys\u001b[0m\u001b[0;34m.\u001b[0m\u001b[0margv\u001b[0m\u001b[0;34m[\u001b[0m\u001b[0;36m1\u001b[0m\u001b[0;34m]\u001b[0m\u001b[0;34m\u001b[0m\u001b[0m\n\u001b[0;32m----> 6\u001b[0;31m \u001b[0mweek\u001b[0m \u001b[0;34m=\u001b[0m \u001b[0mint\u001b[0m\u001b[0;34m(\u001b[0m\u001b[0msys\u001b[0m\u001b[0;34m.\u001b[0m\u001b[0margv\u001b[0m\u001b[0;34m[\u001b[0m\u001b[0;36m2\u001b[0m\u001b[0;34m]\u001b[0m\u001b[0;34m)\u001b[0m\u001b[0;34m\u001b[0m\u001b[0m\n\u001b[0m\u001b[1;32m      7\u001b[0m \u001b[0mnumDoctors\u001b[0m \u001b[0;34m=\u001b[0m \u001b[0mint\u001b[0m\u001b[0;34m(\u001b[0m\u001b[0msys\u001b[0m\u001b[0;34m.\u001b[0m\u001b[0margv\u001b[0m\u001b[0;34m[\u001b[0m\u001b[0;36m3\u001b[0m\u001b[0;34m]\u001b[0m\u001b[0;34m)\u001b[0m\u001b[0;34m\u001b[0m\u001b[0m\n\u001b[1;32m      8\u001b[0m \u001b[0mdf\u001b[0m \u001b[0;34m=\u001b[0m \u001b[0mpd\u001b[0m\u001b[0;34m.\u001b[0m\u001b[0mread_csv\u001b[0m\u001b[0;34m(\u001b[0m\u001b[0;34m\"drewsdata/intakedata20181-20193.csv\"\u001b[0m\u001b[0;34m)\u001b[0m\u001b[0;34m\u001b[0m\u001b[0m\n",
      "\u001b[0;31mValueError\u001b[0m: invalid literal for int() with base 10: '/Users/swsolis/Library/Jupyter/runtime/kernel-bdb8aadb-c7bf-4ec2-80a9-2139f9fe0afc.json'"
     ]
    }
   ],
   "source": [
    "#Or, to turn this into a script that reads command line arguments:\n",
    "\n",
    "import sys\n",
    "import pandas as pd\n",
    "quarter = sys.argv[1]\n",
    "week = int(sys.argv[2])\n",
    "numDoctors = int(sys.argv[3])\n",
    "df = pd.read_csv(\"drewsdata/intakedata20181-20193.csv\")\n",
    "numIntakes = int(df[(df[\"Quarter\"] == quarter) & \n",
    "                    (df[\"Week\"] == week)][\"Intakes\"])\n",
    "print(numIntakes/numDoctors)"
   ]
  },
  {
   "cell_type": "code",
   "execution_count": 23,
   "metadata": {},
   "outputs": [
    {
     "name": "stdout",
     "output_type": "stream",
     "text": [
      "5.705882352941177\n",
      "3.2941176470588234\n",
      "0.8823529411764706\n"
     ]
    }
   ],
   "source": [
    "#To run the above, create a text file drew.py in Jupyter Lab and put the above code in it.  \n",
    "#Then use Jupyter's magic %run command:\n",
    "\n",
    "%run firstscript 'Fall 2018' 2 17\n",
    "%run firstscript 'Winter 2019' 2 17\n",
    "%run firstscript 'Spring 2019' 2 17\n",
    "\n",
    "#To run from the command line:\n",
    "\n",
    "python drew.py 'Fall 2018' 2 17\n",
    "\n"
   ]
  },
  {
   "cell_type": "code",
   "execution_count": null,
   "metadata": {},
   "outputs": [],
   "source": []
  }
 ],
 "metadata": {
  "kernelspec": {
   "display_name": "Python 3",
   "language": "python",
   "name": "python3"
  },
  "language_info": {
   "codemirror_mode": {
    "name": "ipython",
    "version": 3
   },
   "file_extension": ".py",
   "mimetype": "text/x-python",
   "name": "python",
   "nbconvert_exporter": "python",
   "pygments_lexer": "ipython3",
   "version": "3.7.0"
  }
 },
 "nbformat": 4,
 "nbformat_minor": 2
}
